{
 "cells": [
  {
   "cell_type": "code",
   "execution_count": 3,
   "id": "68526224",
   "metadata": {},
   "outputs": [
    {
     "data": {
      "text/plain": [
       "('MY NAME IS RAYYAN AHMED',\n",
       " 'my name is rayyan ahmed',\n",
       " 'My Name Is Rayyan Ahmed')"
      ]
     },
     "execution_count": 3,
     "metadata": {},
     "output_type": "execute_result"
    }
   ],
   "source": [
    "a = 'My name is Rayyan Ahmed'\n",
    "a.upper(), a.lower(), a.title()"
   ]
  },
  {
   "cell_type": "code",
   "execution_count": 6,
   "id": "3b8112a1",
   "metadata": {},
   "outputs": [
    {
     "data": {
      "text/plain": [
       "('A', ' NAME IS RA', 'Name Is Rayyan')"
      ]
     },
     "execution_count": 6,
     "metadata": {},
     "output_type": "execute_result"
    }
   ],
   "source": [
    "a[12].upper(), a[2:13].upper(), a[3:17].title()"
   ]
  },
  {
   "cell_type": "code",
   "execution_count": 7,
   "id": "df35a70a",
   "metadata": {},
   "outputs": [
    {
     "data": {
      "text/plain": [
       "('I live on planet Earth! And you?',\n",
       " 'I used to live on planet Earth! And you?')"
      ]
     },
     "execution_count": 7,
     "metadata": {},
     "output_type": "execute_result"
    }
   ],
   "source": [
    "b = 'I live on planet Earth! And you?'\n",
    "b, b.replace('live' , 'used to live')"
   ]
  },
  {
   "cell_type": "code",
   "execution_count": 9,
   "id": "3a4f5e1a",
   "metadata": {},
   "outputs": [
    {
     "name": "stdout",
     "output_type": "stream",
     "text": [
      "I\tlive\ton\tplanet\tEarth!\tAnd\tyou?\n"
     ]
    }
   ],
   "source": [
    "print(b.replace(' ','\\t'))"
   ]
  },
  {
   "cell_type": "code",
   "execution_count": 13,
   "id": "c1b8e584",
   "metadata": {},
   "outputs": [
    {
     "name": "stdout",
     "output_type": "stream",
     "text": [
      "I live on  Mars! & you?\n"
     ]
    }
   ],
   "source": [
    "c = b.replace('planet Earth', ' Mars').replace(' And', ' &')\n",
    "print(c)"
   ]
  },
  {
   "cell_type": "code",
   "execution_count": 14,
   "id": "16b672f4",
   "metadata": {},
   "outputs": [
    {
     "data": {
      "text/plain": [
       "'Rayyan Ahmed 19'"
      ]
     },
     "execution_count": 14,
     "metadata": {},
     "output_type": "execute_result"
    }
   ],
   "source": [
    "name = 'Rayyan Ahmed '\n",
    "age = 19\n",
    "name + str(age)"
   ]
  },
  {
   "cell_type": "code",
   "execution_count": 18,
   "id": "bff8a1ef",
   "metadata": {},
   "outputs": [
    {
     "data": {
      "text/plain": [
       "'My name is Rayyan Ahmed. I live on planet Earth! And you? My name is Rayyan Ahmed'"
      ]
     },
     "execution_count": 18,
     "metadata": {},
     "output_type": "execute_result"
    }
   ],
   "source": [
    "c = 'My name is Rayyan Ahmed. {} {}'.format(b, a)\n",
    "c"
   ]
  },
  {
   "cell_type": "code",
   "execution_count": 25,
   "id": "b56a208f",
   "metadata": {},
   "outputs": [
    {
     "name": "stdout",
     "output_type": "stream",
     "text": [
      "\n",
      "The country is  Islamic Republic of Pakistan with favourite sport Islam.\n"
     ]
    }
   ],
   "source": [
    "country = ' Islamic Republic of Pakistan'\n",
    "religion = 'Islam'\n",
    "m = 'The country is {} with favourite sport {}.'.format(country, religion)\n",
    "print(f'\\n{m}')"
   ]
  }
 ],
 "metadata": {
  "kernelspec": {
   "display_name": "Python 3 (ipykernel)",
   "language": "python",
   "name": "python3"
  },
  "language_info": {
   "codemirror_mode": {
    "name": "ipython",
    "version": 3
   },
   "file_extension": ".py",
   "mimetype": "text/x-python",
   "name": "python",
   "nbconvert_exporter": "python",
   "pygments_lexer": "ipython3",
   "version": "3.11.5"
  }
 },
 "nbformat": 4,
 "nbformat_minor": 5
}
