{
 "cells": [
  {
   "cell_type": "code",
   "execution_count": 3,
   "id": "c1faf9e5",
   "metadata": {},
   "outputs": [
    {
     "name": "stdout",
     "output_type": "stream",
     "text": [
      "9\n",
      "8.25365974020826\n"
     ]
    }
   ],
   "source": [
    "import random\n",
    "\n",
    "print(random.randint(0,9))\n",
    "print(random.uniform(0,9))\n",
    "\n"
   ]
  },
  {
   "cell_type": "code",
   "execution_count": 8,
   "id": "a99b3ad0",
   "metadata": {},
   "outputs": [
    {
     "data": {
      "text/plain": [
       "'Ahmed'"
      ]
     },
     "execution_count": 8,
     "metadata": {},
     "output_type": "execute_result"
    }
   ],
   "source": [
    "import random\n",
    "\n",
    "names = ['Rayyan', 'Ahmed', 'Azeem', 'Adil']\n",
    "random.choice(names)\n"
   ]
  },
  {
   "cell_type": "code",
   "execution_count": 16,
   "id": "3872e959",
   "metadata": {},
   "outputs": [
    {
     "data": {
      "text/plain": [
       "['Adil', 'Ahmed', 'Azeem']"
      ]
     },
     "execution_count": 16,
     "metadata": {},
     "output_type": "execute_result"
    }
   ],
   "source": [
    "names1 = ['Rayyan', 'Ahmed', 'Azeem', 'Adil']\n",
    "random.choices(names1, k = 3)"
   ]
  },
  {
   "cell_type": "code",
   "execution_count": 48,
   "id": "1cd486c7",
   "metadata": {},
   "outputs": [
    {
     "data": {
      "text/plain": [
       "['Ahmed', 'Ahmed', 'Azeem', 'Rayyan', 'Rayyan']"
      ]
     },
     "execution_count": 48,
     "metadata": {},
     "output_type": "execute_result"
    }
   ],
   "source": [
    "names1 = ['Rayyan', 'Ahmed', 'Azeem']\n",
    "random.choices(names1, weights = [2,3,4] ,k = 5) # weight mean probability\n",
    "\n"
   ]
  },
  {
   "cell_type": "code",
   "execution_count": 116,
   "id": "fc8a8e04",
   "metadata": {},
   "outputs": [
    {
     "name": "stdout",
     "output_type": "stream",
     "text": [
      "3\n"
     ]
    }
   ],
   "source": [
    "import random\n",
    "\n",
    "print(random.randrange(1,10,2)) # Generate a random integer between 1 and 10 with a step of 2\n",
    "\n"
   ]
  },
  {
   "cell_type": "code",
   "execution_count": 47,
   "id": "bb3f7af5",
   "metadata": {},
   "outputs": [
    {
     "data": {
      "text/plain": [
       "2"
      ]
     },
     "execution_count": 47,
     "metadata": {},
     "output_type": "execute_result"
    }
   ],
   "source": [
    "random.randint(0,5)"
   ]
  },
  {
   "cell_type": "code",
   "execution_count": 61,
   "id": "d7e930dc",
   "metadata": {},
   "outputs": [
    {
     "name": "stdout",
     "output_type": "stream",
     "text": [
      "Enter Password to play game: Free Palestine\n",
      "Access Granted.\n",
      "\n",
      "Enter your guess: 2\n",
      "\n",
      "Incorrect Guess! Try again.\n"
     ]
    }
   ],
   "source": [
    "pass_ = 'Free Palestine'\n",
    "passw = input('Enter Password to play game: ')\n",
    "sec_num = random.randint(1,10)\n",
    "\n",
    "if pass_ == passw :\n",
    "    \n",
    "    print('Access Granted.')\n",
    "    guess = int(input('\\nEnter your guess: '))\n",
    "    \n",
    "    if guess == sec_num :\n",
    "        print('\\nCorrect Guess! You won.')\n",
    "    \n",
    "    else :\n",
    "        print('\\nIncorrect Guess! Try again.')\n",
    "    \n",
    "else :\n",
    "    print('Access Denied!')"
   ]
  },
  {
   "cell_type": "code",
   "execution_count": 9,
   "id": "4228ad2d",
   "metadata": {},
   "outputs": [
    {
     "name": "stdout",
     "output_type": "stream",
     "text": [
      "0.6068435161343726\n"
     ]
    }
   ],
   "source": [
    "import random\n",
    "\n",
    "a = random.random()\n",
    "print(a)"
   ]
  },
  {
   "cell_type": "code",
   "execution_count": 101,
   "id": "e1be2052",
   "metadata": {},
   "outputs": [
    {
     "data": {
      "text/plain": [
       "[9, 1, 12, 7, 10, 3]"
      ]
     },
     "execution_count": 101,
     "metadata": {},
     "output_type": "execute_result"
    }
   ],
   "source": [
    "import random\n",
    "\n",
    "a = list(range(1,15))\n",
    "random.shuffle(a)\n",
    "a\n",
    "\n",
    "b = random.sample(a, k = 6)\n",
    "b"
   ]
  },
  {
   "cell_type": "code",
   "execution_count": 131,
   "id": "977455cd",
   "metadata": {},
   "outputs": [
    {
     "name": "stdout",
     "output_type": "stream",
     "text": [
      "Your password is:  yaopm7&@ gmail.com\n"
     ]
    }
   ],
   "source": [
    "# basic password generator\n",
    "\n",
    "import random\n",
    "\n",
    "a = random.choice(['a', 'b', 'c', 'd', 'e', 'f', 'g', 'h', 'i', 'j', 'k', 'l', 'm', 'n', 'o', 'p', 'q', 'r', 's', 't', 'u', 'v', 'w', 'x', 'y', 'z'])\n",
    "b = random.choice(['a', 'b', 'c', 'd', 'e', 'f', 'g', 'h', 'i', 'j', 'k', 'l', 'm', 'n', 'o', 'p', 'q', 'r', 's', 't', 'u', 'v', 'w', 'x', 'y', 'z'])\n",
    "c = random.choice(['a', 'b', 'c', 'd', 'e', 'f', 'g', 'h', 'i', 'j', 'k', 'l', 'm', 'n', 'o', 'p', 'q', 'r', 's', 't', 'u', 'v', 'w', 'x', 'y', 'z'])\n",
    "d = random.choice(['a', 'b', 'c', 'd', 'e', 'f', 'g', 'h', 'i', 'j', 'k', 'l', 'm', 'n', 'o', 'p', 'q', 'r', 's', 't', 'u', 'v', 'w', 'x', 'y', 'z'])\n",
    "e = random.choice(['a', 'b', 'c', 'd', 'e', 'f', 'g', 'h', 'i', 'j', 'k', 'l', 'm', 'n', 'o', 'p', 'q', 'r', 's', 't', 'u', 'v', 'w', 'x', 'y', 'z'])\n",
    "f = random.choice(['1','2','3','4','5','6','7','8','9','0'])\n",
    "g = random.choice(['!','#','$','%','^','&','&','*'])\n",
    "\n",
    "password = a + b + c + d + e + f + g + '@ gmail.com'\n",
    "print('Your password is: ',password)"
   ]
  },
  {
   "cell_type": "code",
   "execution_count": 72,
   "id": "0de188b6",
   "metadata": {},
   "outputs": [
    {
     "name": "stdout",
     "output_type": "stream",
     "text": [
      "Random number with seed 10: 80\n"
     ]
    }
   ],
   "source": [
    "import random\n",
    "\n",
    "# Set the seed for reproducibility\n",
    "random.seed(5)\n",
    "\n",
    "# Generate a random number\n",
    "rand_num = random.randint(1, 100)\n",
    "print(\"Random number with seed 10:\", rand_num)\n"
   ]
  },
  {
   "cell_type": "code",
   "execution_count": 75,
   "id": "d8f26b52",
   "metadata": {},
   "outputs": [
    {
     "name": "stdout",
     "output_type": "stream",
     "text": [
      "Random float from normal distribution: -0.7015691118743931\n"
     ]
    }
   ],
   "source": [
    "import random\n",
    "\n",
    "# Generate a random floating-point number from a normal distribution\n",
    "rand_normal = random.gauss(0, 1)  # mean 0, standard deviation 1\n",
    "print(\"Random float from normal distribution:\", rand_normal)\n"
   ]
  },
  {
   "cell_type": "code",
   "execution_count": 121,
   "id": "ad5f72d9",
   "metadata": {},
   "outputs": [
    {
     "name": "stdout",
     "output_type": "stream",
     "text": [
      "Shuffled list: ['cherry', 'apple', 'banana']\n"
     ]
    }
   ],
   "source": [
    "import random\n",
    "\n",
    "# Shuffle a list in place\n",
    "items = ['apple', 'banana', 'cherry']\n",
    "random.shuffle(items)\n",
    "print(\"Shuffled list:\", items)\n"
   ]
  },
  {
   "cell_type": "code",
   "execution_count": 135,
   "id": "e67cafb4",
   "metadata": {},
   "outputs": [
    {
     "name": "stdout",
     "output_type": "stream",
     "text": [
      "Random sample: ['date', 'banana']\n"
     ]
    }
   ],
   "source": [
    "import random\n",
    "\n",
    "# Get a random sample of 2 elements from a list\n",
    "items = ['apple', 'banana', 'cherry', 'date']\n",
    "rand_sample = random.sample(items, 2)\n",
    "print(\"Random sample:\", rand_sample)\n"
   ]
  },
  {
   "cell_type": "code",
   "execution_count": null,
   "id": "23f4e3b1",
   "metadata": {},
   "outputs": [],
   "source": []
  },
  {
   "cell_type": "code",
   "execution_count": null,
   "id": "355c33dd",
   "metadata": {},
   "outputs": [],
   "source": []
  }
 ],
 "metadata": {
  "kernelspec": {
   "display_name": "Python 3 (ipykernel)",
   "language": "python",
   "name": "python3"
  },
  "language_info": {
   "codemirror_mode": {
    "name": "ipython",
    "version": 3
   },
   "file_extension": ".py",
   "mimetype": "text/x-python",
   "name": "python",
   "nbconvert_exporter": "python",
   "pygments_lexer": "ipython3",
   "version": "3.11.5"
  }
 },
 "nbformat": 4,
 "nbformat_minor": 5
}
