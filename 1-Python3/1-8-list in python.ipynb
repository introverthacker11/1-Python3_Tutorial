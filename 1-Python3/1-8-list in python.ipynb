{
 "cells": [
  {
   "cell_type": "markdown",
   "id": "3082fa4a",
   "metadata": {},
   "source": [
    "###\n",
    "## List: \n",
    "###  A list is a built-in data type that is used to store a collection of items. Lists are ordered, mutable, and can hold a mixture of data types.\n",
    "###"
   ]
  },
  {
   "cell_type": "markdown",
   "id": "f2ccf2fe",
   "metadata": {},
   "source": [
    "**Key Characteristics:**\n",
    "    \n",
    "- Ordered: The items in a list have a defined order, and that order will not change unless explicitly modified.\n",
    "    \n",
    "- Mutable: Lists can be changed after their creation. You can add, remove, or modify items.\n",
    "    \n",
    "- Heterogeneous: A list can contain items of different data types, including numbers, strings, and other lists."
   ]
  },
  {
   "cell_type": "code",
   "execution_count": 1,
   "id": "998c9623",
   "metadata": {},
   "outputs": [
    {
     "data": {
      "text/plain": [
       "([1, 2, 3, 4, 'four', 'Usama'], list)"
      ]
     },
     "execution_count": 1,
     "metadata": {},
     "output_type": "execute_result"
    }
   ],
   "source": [
    "a = [1,2,3,4,'four','Usama']\n",
    "a,type(a)"
   ]
  },
  {
   "cell_type": "code",
   "execution_count": 4,
   "id": "43f0229a",
   "metadata": {},
   "outputs": [
    {
     "data": {
      "text/plain": [
       "['one', 2, 3, 4, 'four', 'Usama']"
      ]
     },
     "execution_count": 4,
     "metadata": {},
     "output_type": "execute_result"
    }
   ],
   "source": [
    "a[0] = 'one'\n",
    "a"
   ]
  },
  {
   "cell_type": "code",
   "execution_count": 8,
   "id": "6bef6382",
   "metadata": {},
   "outputs": [
    {
     "data": {
      "text/plain": [
       "['o', 'n', 'e', 'four', 'Usama']"
      ]
     },
     "execution_count": 8,
     "metadata": {},
     "output_type": "execute_result"
    }
   ],
   "source": [
    "a[0:3] = 'one'\n",
    "a"
   ]
  },
  {
   "cell_type": "code",
   "execution_count": 4,
   "id": "72b38a0f",
   "metadata": {},
   "outputs": [
    {
     "data": {
      "text/plain": [
       "[[1, 2, 3], [4, 5, 6], [7, 8, 9]]"
      ]
     },
     "execution_count": 4,
     "metadata": {},
     "output_type": "execute_result"
    }
   ],
   "source": [
    "# Creating a list of integers\n",
    "numbers = [1, 2, 3, 4, 5]\n",
    "\n",
    "# Creating a list with mixed data types\n",
    "mixed_list = [1, \"Hello\", 3.14, True]\n",
    "\n",
    "# Creating a list of lists\n",
    "nested_list = [[1, 2, 3], [4, 5, 6], [7, 8, 9]]\n",
    "\n",
    "numbers\n",
    "mixed_list\n",
    "nested_list"
   ]
  },
  {
   "cell_type": "markdown",
   "id": "81aef3cc",
   "metadata": {},
   "source": [
    "###\n",
    "## Append:\n",
    "###"
   ]
  },
  {
   "cell_type": "code",
   "execution_count": 11,
   "id": "b67a6892",
   "metadata": {},
   "outputs": [
    {
     "data": {
      "text/plain": [
       "[1, 2, 3, 4, 5, 6]"
      ]
     },
     "execution_count": 11,
     "metadata": {},
     "output_type": "execute_result"
    }
   ],
   "source": [
    "b = [1,2,3,4,5]\n",
    "b.append(6)\n",
    "b"
   ]
  },
  {
   "cell_type": "code",
   "execution_count": 12,
   "id": "778bbedf",
   "metadata": {},
   "outputs": [
    {
     "data": {
      "text/plain": [
       "[1, 2, 3, 'a', 'b', True, 'c', 12]"
      ]
     },
     "execution_count": 12,
     "metadata": {},
     "output_type": "execute_result"
    }
   ],
   "source": [
    "b = [1,2,3,'a','b',1 == 1,'c']\n",
    "b.append(12)\n",
    "b"
   ]
  },
  {
   "cell_type": "code",
   "execution_count": 16,
   "id": "8d3435d4",
   "metadata": {},
   "outputs": [
    {
     "data": {
      "text/plain": [
       "[11, 12, 14, 15, 17, 19]"
      ]
     },
     "execution_count": 16,
     "metadata": {},
     "output_type": "execute_result"
    }
   ],
   "source": [
    "a = [11,12,14]\n",
    "c = a + [15, 17, 19]\n",
    "c"
   ]
  },
  {
   "cell_type": "markdown",
   "id": "a827b645",
   "metadata": {},
   "source": [
    "###\n",
    "## Remove:\n",
    "###"
   ]
  },
  {
   "cell_type": "code",
   "execution_count": 5,
   "id": "a44e154b",
   "metadata": {},
   "outputs": [
    {
     "data": {
      "text/plain": [
       "[1, 2, 3, 4]"
      ]
     },
     "execution_count": 5,
     "metadata": {},
     "output_type": "execute_result"
    }
   ],
   "source": [
    "a = [1,2,3,4,'four']\n",
    "a.remove('four')\n",
    "a"
   ]
  },
  {
   "cell_type": "markdown",
   "id": "ce0dec56",
   "metadata": {},
   "source": [
    "####\n",
    "### Pop --> It gives the 1st element of list and remove it from the orignal list:\n",
    "####"
   ]
  },
  {
   "cell_type": "code",
   "execution_count": 20,
   "id": "2004d485",
   "metadata": {},
   "outputs": [
    {
     "data": {
      "text/plain": [
       "'Rayyan Ahmed'"
      ]
     },
     "execution_count": 20,
     "metadata": {},
     "output_type": "execute_result"
    }
   ],
   "source": [
    "a = ['Rayyan Ahmed',1,'hi',2,3,4]\n",
    "a.pop(0)\n"
   ]
  },
  {
   "cell_type": "code",
   "execution_count": 29,
   "id": "5589ac59",
   "metadata": {},
   "outputs": [
    {
     "data": {
      "text/plain": [
       "[1, True, 2, 3, 4, 5, 8, 10]"
      ]
     },
     "execution_count": 29,
     "metadata": {},
     "output_type": "execute_result"
    }
   ],
   "source": [
    "a = [1,10,2,4,3,0.9 == 0.9,8,5,]\n",
    "a.sort()\n",
    "a"
   ]
  },
  {
   "cell_type": "code",
   "execution_count": 30,
   "id": "1043dc25",
   "metadata": {},
   "outputs": [
    {
     "data": {
      "text/plain": [
       "[10, 8, 5, 4, 3, 2, 1, True]"
      ]
     },
     "execution_count": 30,
     "metadata": {},
     "output_type": "execute_result"
    }
   ],
   "source": [
    "a.sort(reverse = True)\n",
    "a"
   ]
  },
  {
   "cell_type": "markdown",
   "id": "b60a3827",
   "metadata": {},
   "source": [
    "# List Methods in Python\n",
    "\n",
    "Python lists come with a variety of built-in methods that facilitate various operations. Here are a few commonly used ones:\n",
    "\n",
    "- `append(x)`: Adds an item `x` to the end of the list.\n",
    "- `extend(iterable)`: Extends the list by appending elements from the iterable.\n",
    "- `insert(i, x)`: Inserts an item `x` at a specified index `i`.\n",
    "- `remove(x)`: Removes the first occurrence of the item `x`.\n",
    "- `pop([i])`: Removes and returns the item at the specified index `i` (default is the last item).\n",
    "- `clear()`: Removes all items from the list.\n",
    "- `index(x, [start[, end]])`: Returns the index of the first occurrence of the item `x`.\n",
    "- `count(x)`: Returns the number of occurrences of the item `x`.\n",
    "- `sort(key=None, reverse=False)`: Sorts the items of the list in place.\n",
    "- `reverse()`: Reverses the elements of the list in place.\n",
    "- `copy()`: Returns a shallow copy of the list.\n"
   ]
  },
  {
   "cell_type": "code",
   "execution_count": 6,
   "id": "1f70ec85",
   "metadata": {},
   "outputs": [
    {
     "name": "stdout",
     "output_type": "stream",
     "text": [
      "After append: ['apple', 'banana', 'cherry', 'apple', 'date']\n",
      "After extend: ['apple', 'banana', 'cherry', 'apple', 'date', 'elderberry', 'fig', 'grape']\n",
      "After insert: ['apple', 'blueberry', 'banana', 'cherry', 'apple', 'date', 'elderberry', 'fig', 'grape']\n",
      "After remove: ['blueberry', 'banana', 'cherry', 'apple', 'date', 'elderberry', 'fig', 'grape']\n",
      "After pop: ['blueberry', 'banana', 'cherry', 'apple', 'date', 'elderberry', 'fig']\n",
      "Popped fruit: grape\n",
      "After clear: []\n",
      "Index of cherry: 2\n",
      "Count of apple: 2\n",
      "After sort: ['apple', 'apple', 'banana', 'cherry']\n",
      "After reverse: ['cherry', 'banana', 'apple', 'apple']\n",
      "Copy of fruits: ['cherry', 'banana', 'apple', 'apple']\n"
     ]
    }
   ],
   "source": [
    "# Creating a list\n",
    "fruits = [\"apple\", \"banana\", \"cherry\", \"apple\"]\n",
    "\n",
    "# append(x): Adds an item x to the end of the list.\n",
    "fruits.append(\"date\")\n",
    "print(\"After append:\", fruits)  # Output: ['apple', 'banana', 'cherry', 'apple', 'date']\n",
    "\n",
    "# extend(iterable): Extends the list by appending elements from the iterable.\n",
    "fruits.extend([\"elderberry\", \"fig\", \"grape\"])\n",
    "print(\"After extend:\", fruits)  # Output: ['apple', 'banana', 'cherry', 'apple', 'date', 'elderberry', 'fig', 'grape']\n",
    "\n",
    "# insert(i, x): Inserts an item x at a specified index i.\n",
    "fruits.insert(1, \"blueberry\")\n",
    "print(\"After insert:\", fruits)  # Output: ['apple', 'blueberry', 'banana', 'cherry', 'apple', 'date', 'elderberry', 'fig', 'grape']\n",
    "\n",
    "# remove(x): Removes the first occurrence of the item x.\n",
    "fruits.remove(\"apple\")\n",
    "print(\"After remove:\", fruits)  # Output: ['blueberry', 'banana', 'cherry', 'apple', 'date', 'elderberry', 'fig', 'grape']\n",
    "\n",
    "# pop([i]): Removes and returns the item at the specified index i (default is the last item).\n",
    "popped_fruit = fruits.pop()\n",
    "print(\"After pop:\", fruits)  # Output: ['blueberry', 'banana', 'cherry', 'apple', 'date', 'elderberry', 'fig']\n",
    "print(\"Popped fruit:\", popped_fruit)  # Output: 'grape'\n",
    "\n",
    "# clear(): Removes all items from the list.\n",
    "fruits.clear()\n",
    "print(\"After clear:\", fruits)  # Output: []\n",
    "\n",
    "# Recreating the list for the remaining methods\n",
    "fruits = [\"apple\", \"banana\", \"cherry\", \"apple\"]\n",
    "\n",
    "# index(x, [start[, end]]): Returns the index of the first occurrence of the item x.\n",
    "index_of_cherry = fruits.index(\"cherry\")\n",
    "print(\"Index of cherry:\", index_of_cherry)  # Output: 2\n",
    "\n",
    "# count(x): Returns the number of occurrences of the item x.\n",
    "count_of_apple = fruits.count(\"apple\")\n",
    "print(\"Count of apple:\", count_of_apple)  # Output: 2\n",
    "\n",
    "# sort(key=None, reverse=False): Sorts the items of the list in place.\n",
    "fruits.sort()\n",
    "print(\"After sort:\", fruits)  # Output: ['apple', 'apple', 'banana', 'cherry']\n",
    "\n",
    "# reverse(): Reverses the elements of the list in place.\n",
    "fruits.reverse()\n",
    "print(\"After reverse:\", fruits)  # Output: ['cherry', 'banana', 'apple', 'apple']\n",
    "\n",
    "# copy(): Returns a shallow copy of the list.\n",
    "fruits_copy = fruits.copy()\n",
    "print(\"Copy of fruits:\", fruits_copy)  # Output: ['cherry', 'banana', 'apple', 'apple']\n"
   ]
  }
 ],
 "metadata": {
  "kernelspec": {
   "display_name": "Python 3 (ipykernel)",
   "language": "python",
   "name": "python3"
  },
  "language_info": {
   "codemirror_mode": {
    "name": "ipython",
    "version": 3
   },
   "file_extension": ".py",
   "mimetype": "text/x-python",
   "name": "python",
   "nbconvert_exporter": "python",
   "pygments_lexer": "ipython3",
   "version": "3.11.5"
  }
 },
 "nbformat": 4,
 "nbformat_minor": 5
}
