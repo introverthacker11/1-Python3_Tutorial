{
 "cells": [
  {
   "cell_type": "markdown",
   "id": "071d0e85",
   "metadata": {},
   "source": [
    "###\n",
    "## Functions:\n",
    "### Functions in Python are blocks of reusable code designed to perform a specific task. They allow you to group statements together and execute them when needed, making your code more organized and easier to manage.\n",
    "###"
   ]
  },
  {
   "cell_type": "code",
   "execution_count": 2,
   "id": "338b5009",
   "metadata": {},
   "outputs": [
    {
     "name": "stdout",
     "output_type": "stream",
     "text": [
      "Hello, World!\n"
     ]
    }
   ],
   "source": [
    "def greet():\n",
    "    print(\"Hello, World!\")\n",
    "\n",
    "greet()  # Calling the function\n"
   ]
  },
  {
   "cell_type": "code",
   "execution_count": 1,
   "id": "c9836eab",
   "metadata": {},
   "outputs": [
    {
     "name": "stdout",
     "output_type": "stream",
     "text": [
      "Humanity Saved!\n",
      "Congratulations!\n"
     ]
    }
   ],
   "source": [
    "def function(parametres) :\n",
    "    print('Humanity Saved!')\n",
    "    print(parametres)\n",
    "function('Congratulations!')"
   ]
  },
  {
   "cell_type": "code",
   "execution_count": 13,
   "id": "823ea1f7",
   "metadata": {},
   "outputs": [
    {
     "name": "stdout",
     "output_type": "stream",
     "text": [
      "a + b =  22\n"
     ]
    }
   ],
   "source": [
    "def add(a,b) :\n",
    "    print('a + b = ',a + b)\n",
    "    \n",
    "add(10,12)"
   ]
  },
  {
   "cell_type": "code",
   "execution_count": 3,
   "id": "ec73f1ee",
   "metadata": {},
   "outputs": [
    {
     "name": "stdout",
     "output_type": "stream",
     "text": [
      "Hello, Guest!\n",
      "Hello, Bob!\n"
     ]
    }
   ],
   "source": [
    "def greet(name=\"Guest\"):\n",
    "    print(f\"Hello, {name}!\")\n",
    "\n",
    "greet()          # Calls with default parameter\n",
    "greet(\"Bob\")     # Calls with a specific parameter\n"
   ]
  },
  {
   "cell_type": "code",
   "execution_count": 4,
   "id": "2ef665a7",
   "metadata": {},
   "outputs": [
    {
     "name": "stdout",
     "output_type": "stream",
     "text": [
      "Sum: 9\n",
      "Product: 20\n"
     ]
    }
   ],
   "source": [
    "def calculate(a, b):\n",
    "    sum_ab = a + b\n",
    "    product_ab = a * b\n",
    "    return sum_ab, product_ab  # Returning multiple values as a tuple\n",
    "\n",
    "sum_result, product_result = calculate(4, 5)\n",
    "print(\"Sum:\", sum_result)\n",
    "print(\"Product:\", product_result)\n"
   ]
  },
  {
   "cell_type": "code",
   "execution_count": 26,
   "id": "25617c03",
   "metadata": {},
   "outputs": [
    {
     "name": "stdout",
     "output_type": "stream",
     "text": [
      "Options:\n",
      "\n",
      "a)details\n",
      "b)calculate\n",
      "\n",
      "Enter your choice(a/b): b\n",
      "\n",
      "Welcome to {language} based Calculator:\n",
      "\n",
      "Enter number 1: 12\n",
      "Enter number 2: 10\n",
      "Enter operator (+,-,*,/,%): *\n",
      "\n",
      "12.0 * 10.0 = 120.0.\n"
     ]
    }
   ],
   "source": [
    "def showroom(name) :\n",
    "    \n",
    "    print(f'\\nWelcome to {name}')\n",
    "    cars = 'civic,corolla,alto,highroof,pajero,land cruiser'\n",
    "    bike = 'CD-70,CD-50,CD-125,super-250'\n",
    "    time = 'Monday - Friday(Namza break ==> 1:30pm to 2:30pm): 9am - 10:30pm'\n",
    "    print(f'\\nCars:\\n{cars}\\n\\nBikes:\\n{bike}\\n\\nTimings:\\n{time}')\n",
    "    \n",
    "def calc(language):\n",
    "\n",
    "    print('\\nWelcome to {language} based Calculator:\\n')\n",
    "    num1 = float(input('Enter number 1: '))\n",
    "    num2 = float(input('Enter number 2: '))\n",
    "    operator = input('Enter operator (+,-,*,/,%): ')\n",
    "\n",
    "    if operator == '+' :\n",
    "        print(f'\\n{num1} + {num2} = {num1 + num2}.')\n",
    "\n",
    "    elif operator == '-' :\n",
    "        print(f'\\n{num1} - {num2} = {num1 - num2}.')\n",
    "\n",
    "    elif operator == '*' :\n",
    "        print(f'\\n{num1} * {num2} = {num1 * num2}.')\n",
    "\n",
    "    elif operator == '/' :\n",
    "        print(f'\\n{num1} / {num2} = {num1 / num2}.')\n",
    "\n",
    "    elif operator == '%' :\n",
    "        print(f'\\n{num1} % {num2} = {num1 % num2}.')\n",
    "\n",
    "    else :\n",
    "        print('Enter correct operator!')\n",
    "        \n",
    "ask = input('Options:\\n\\na)details\\nb)calculate\\n\\nEnter your choice(a/b): ')\n",
    "\n",
    "if ask == 'a' :\n",
    "    showroom('Rayyan\\'s Garage')\n",
    "\n",
    "elif ask == 'b' :\n",
    "    calc('Python3')\n",
    "    \n",
    "else :\n",
    "    print('Enter a or b.')"
   ]
  }
 ],
 "metadata": {
  "kernelspec": {
   "display_name": "Python 3 (ipykernel)",
   "language": "python",
   "name": "python3"
  },
  "language_info": {
   "codemirror_mode": {
    "name": "ipython",
    "version": 3
   },
   "file_extension": ".py",
   "mimetype": "text/x-python",
   "name": "python",
   "nbconvert_exporter": "python",
   "pygments_lexer": "ipython3",
   "version": "3.11.5"
  }
 },
 "nbformat": 4,
 "nbformat_minor": 5
}
