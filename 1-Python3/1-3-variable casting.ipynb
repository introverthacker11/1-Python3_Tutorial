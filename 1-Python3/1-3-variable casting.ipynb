{
 "cells": [
  {
   "cell_type": "code",
   "execution_count": 2,
   "id": "71f4f3a4",
   "metadata": {},
   "outputs": [
    {
     "name": "stdout",
     "output_type": "stream",
     "text": [
      "Rayyan Ahmed\n",
      "Name: Rayyan Ahmed\n",
      "Name: Rayyan Ahmed\n",
      "Name:\n",
      "Rayyan Ahmed\n",
      "\n",
      "Name:\n",
      "Rayyan Ahmed\n"
     ]
    }
   ],
   "source": [
    "name = 'Rayyan Ahmed'\n",
    "age = 19\n",
    "marks = 100.98\n",
    "\n",
    "name,age,marks\n",
    "print(name)\n",
    "print('Name:', name)\n",
    "print(f'Name: {name}')\n",
    "print(f'Name:\\n{name}')     # \\n means new line\n",
    "print(f'\\nName:\\n{name}')"
   ]
  },
  {
   "cell_type": "code",
   "execution_count": 8,
   "id": "37151a45",
   "metadata": {},
   "outputs": [
    {
     "data": {
      "text/plain": [
       "'10.97'"
      ]
     },
     "execution_count": 8,
     "metadata": {},
     "output_type": "execute_result"
    }
   ],
   "source": [
    "number = 10.97\n",
    "\n",
    "#number\n",
    "type(number)\n",
    "str(number)\n",
    "int(number)\n",
    "str(int(number))\n",
    "str(float(number))"
   ]
  },
  {
   "cell_type": "code",
   "execution_count": 9,
   "id": "7576a2cd",
   "metadata": {},
   "outputs": [
    {
     "name": "stdout",
     "output_type": "stream",
     "text": [
      "Addition: 1087.98,\n",
      "Subtraction: -887.98,\n",
      "Multiplication: 98798.0,\n",
      "Division: 0.101\n"
     ]
    },
    {
     "data": {
      "text/plain": [
       "(1087.98, -887.98, 98798.0, 0.10121662381829591)"
      ]
     },
     "execution_count": 9,
     "metadata": {},
     "output_type": "execute_result"
    }
   ],
   "source": [
    "a = 100\n",
    "b = 987.98\n",
    "print(f'Addition: {a + b},\\nSubtraction: {a - b},\\nMultiplication: {a * b},\\nDivision: {a / b:.3f}')\n",
    "a + b, a - b, a * b, a / b\n"
   ]
  },
  {
   "cell_type": "markdown",
   "id": "231bf2ed",
   "metadata": {},
   "source": [
    "######\n",
    "###### Simple Calculator using Variables:\n",
    "######"
   ]
  },
  {
   "cell_type": "code",
   "execution_count": 12,
   "id": "68e4f903",
   "metadata": {},
   "outputs": [
    {
     "name": "stdout",
     "output_type": "stream",
     "text": [
      "Enter number 1: 12.43\n",
      "Enter number 2: 2.445\n",
      "\n",
      "Operations on 12.43 & 2.445:\n"
     ]
    },
    {
     "data": {
      "text/plain": [
       "(14.875, 9.985, 30.391349999999996, 5.083844580777097)"
      ]
     },
     "execution_count": 12,
     "metadata": {},
     "output_type": "execute_result"
    }
   ],
   "source": [
    "num1 = float(input('Enter number 1: '))\n",
    "num2 = float(input('Enter number 2: '))\n",
    "\n",
    "add = num1 + num2\n",
    "sub = num1 - num2\n",
    "mul = num1 * num2\n",
    "div = num1 / num2\n",
    "\n",
    "print(f'\\nOperations on {num1} & {num2}:')\n",
    "\n",
    "add,sub,mul,div"
   ]
  },
  {
   "cell_type": "markdown",
   "id": "45f8da84",
   "metadata": {},
   "source": [
    "######\n",
    "###### Percentage Generator using Variables:\n",
    "######"
   ]
  },
  {
   "cell_type": "code",
   "execution_count": 10,
   "id": "939283ba",
   "metadata": {},
   "outputs": [
    {
     "name": "stdout",
     "output_type": "stream",
     "text": [
      "Welcome to Report Card Maker\n",
      "\n",
      "Enter marks of Pyhsics: 70\n",
      "Enter marks of Chemistry: 50\n",
      "Enter marks of English: 50\n",
      "Enter marks of Urdu: 75\n",
      "Enter marks of Islamiaat: 90\n",
      "\n",
      "Result:\n",
      "\n",
      "Total Marks:\n",
      "500\n",
      "Marks Got:\n",
      "335\n",
      "Percentage:\n",
      "67.0%\n"
     ]
    }
   ],
   "source": [
    "print('Welcome to Report Card Maker\\n')\n",
    "\n",
    "phy = int(input('Enter marks of Pyhsics: '))\n",
    "chm = int(input('Enter marks of Chemistry: '))\n",
    "eng = int(input('Enter marks of English: '))\n",
    "urdu = int(input('Enter marks of Urdu: '))\n",
    "isl = int(input('Enter marks of Islamiaat: '))\n",
    "\n",
    "total = 500\n",
    "t_got = phy + chm + eng + urdu + isl\n",
    "\n",
    "percentage = ((t_got / total) * 100)\n",
    "\n",
    "print('\\nResult:\\n')\n",
    "print(f'Total Marks:\\n{total}')\n",
    "print(f'Marks Got:\\n{t_got}')\n",
    "print(f'Percentage:\\n{percentage}%')"
   ]
  },
  {
   "cell_type": "code",
   "execution_count": null,
   "id": "c4453479",
   "metadata": {},
   "outputs": [],
   "source": []
  }
 ],
 "metadata": {
  "kernelspec": {
   "display_name": "Python 3 (ipykernel)",
   "language": "python",
   "name": "python3"
  },
  "language_info": {
   "codemirror_mode": {
    "name": "ipython",
    "version": 3
   },
   "file_extension": ".py",
   "mimetype": "text/x-python",
   "name": "python",
   "nbconvert_exporter": "python",
   "pygments_lexer": "ipython3",
   "version": "3.11.5"
  }
 },
 "nbformat": 4,
 "nbformat_minor": 5
}
