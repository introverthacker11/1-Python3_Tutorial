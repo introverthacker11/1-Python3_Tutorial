{
 "cells": [
  {
   "cell_type": "markdown",
   "id": "02d11ce9",
   "metadata": {},
   "source": [
    "###\n",
    "## Sets:\n",
    "### A set is a built-in data type that represents an unordered collection of unique elements. Sets are mutable, meaning that you can add or remove elements after the set is created, but they do not allow duplicate elements. Sets are defined using curly braces {} or by using the set() function.\n",
    "###"
   ]
  },
  {
   "cell_type": "markdown",
   "id": "33e41fdf",
   "metadata": {},
   "source": [
    "**Key Characteristics of Sets:**\n",
    "\n",
    "- Unordered: Sets do not maintain any order for the elements. As a result, elements cannot be accessed via indexing or slicing.\n",
    "\n",
    "- Unique Elements: Sets automatically eliminate duplicate elements, ensuring all elements are unique.\n",
    "\n",
    "- Mutable: Sets can be modified after their creation by adding or removing elements.\n",
    "\n",
    "- Heterogeneous: Sets can contain elements of different data types, including numbers, strings, and other immutable types.     "
   ]
  },
  {
   "cell_type": "code",
   "execution_count": 1,
   "id": "12713f67",
   "metadata": {},
   "outputs": [
    {
     "data": {
      "text/plain": [
       "(set, 3)"
      ]
     },
     "execution_count": 1,
     "metadata": {},
     "output_type": "execute_result"
    }
   ],
   "source": [
    "a = {'Apple','Orange','cherry'}\n",
    "\n",
    "type(a),len(a)"
   ]
  },
  {
   "cell_type": "code",
   "execution_count": 2,
   "id": "8c670143",
   "metadata": {},
   "outputs": [
    {
     "data": {
      "text/plain": [
       "{'Apple', 'Orange'}"
      ]
     },
     "execution_count": 2,
     "metadata": {},
     "output_type": "execute_result"
    }
   ],
   "source": [
    "a.remove('cherry')\n",
    "a"
   ]
  },
  {
   "cell_type": "code",
   "execution_count": 3,
   "id": "16682942",
   "metadata": {},
   "outputs": [
    {
     "data": {
      "text/plain": [
       "{1, 2, 3, 4, 5}"
      ]
     },
     "execution_count": 3,
     "metadata": {},
     "output_type": "execute_result"
    }
   ],
   "source": [
    "a = {1,2,3,4}\n",
    "a.add(5)\n",
    "a"
   ]
  },
  {
   "cell_type": "code",
   "execution_count": 17,
   "id": "50a3e6ef",
   "metadata": {},
   "outputs": [
    {
     "data": {
      "text/plain": [
       "{'Ahmed', 'is a Billionaire'}"
      ]
     },
     "execution_count": 17,
     "metadata": {},
     "output_type": "execute_result"
    }
   ],
   "source": [
    "# The update method in Python is used to add elements from one set to another.\n",
    "# When you call set1.update(set2), it adds all the elements of set2 to set1.\n",
    "\n",
    "set1 = {'Mr.','Rayyan'}\n",
    "set2 = {'Ahmed','is a Billionaire'}\n",
    "\n",
    "set1.update(set2)\n",
    "set2\n",
    "#set1\n",
    "\n",
    "# The update method only modifies the set on which it is called, not the set that is passed as an argument.\n",
    "# This is because update is designed to add elements to the set it's called on without affecting any other sets."
   ]
  },
  {
   "cell_type": "markdown",
   "id": "9d546afa",
   "metadata": {},
   "source": [
    "**The intersection method in Python is used to find the common elements between two or more sets.**\n",
    "\n",
    "**When you call a.intersection(b), it returns a new set containing only the elements that are present in both a and b.**"
   ]
  },
  {
   "cell_type": "code",
   "execution_count": 19,
   "id": "4cb5731f",
   "metadata": {},
   "outputs": [
    {
     "data": {
      "text/plain": [
       "{1, 3}"
      ]
     },
     "execution_count": 19,
     "metadata": {},
     "output_type": "execute_result"
    }
   ],
   "source": [
    "a = {1,2,3,4,5}\n",
    "b = {1,3,6,7}\n",
    "\n",
    "a.intersection(b)"
   ]
  },
  {
   "cell_type": "code",
   "execution_count": 27,
   "id": "9310d8f2",
   "metadata": {},
   "outputs": [
    {
     "data": {
      "text/plain": [
       "{'Earth', 'Rayyan'}"
      ]
     },
     "execution_count": 27,
     "metadata": {},
     "output_type": "execute_result"
    }
   ],
   "source": [
    "a = {'Rayyan','Hello','Earth'}\n",
    "b = {'Rayyan','Hello','Earth'}\n",
    "c = {'Hello','Peace','River 2 c'}\n",
    "\n",
    "a - b\n",
    "a - c"
   ]
  },
  {
   "cell_type": "markdown",
   "id": "f9fb3955",
   "metadata": {},
   "source": [
    "###\n",
    "## Creating Sets:\n",
    "###"
   ]
  },
  {
   "cell_type": "code",
   "execution_count": 1,
   "id": "4057a9c5",
   "metadata": {},
   "outputs": [
    {
     "name": "stdout",
     "output_type": "stream",
     "text": [
      "{'apple', 'banana', 'cherry'}\n",
      "{1, 2, 3, 4, 5}\n",
      "set()\n"
     ]
    }
   ],
   "source": [
    "# Creating a set with curly braces\n",
    "fruits = {\"apple\", \"banana\", \"cherry\"}\n",
    "\n",
    "# Creating a set with the set() function\n",
    "numbers = set([1, 2, 3, 4, 5])\n",
    "\n",
    "# Creating an empty set\n",
    "empty_set = set()\n",
    "\n",
    "print(fruits)\n",
    "print(numbers)\n",
    "print(empty_set)"
   ]
  },
  {
   "cell_type": "markdown",
   "id": "4467d1fc",
   "metadata": {},
   "source": [
    "###\n",
    "## Adding and Removing Elements:\n",
    "###"
   ]
  },
  {
   "cell_type": "code",
   "execution_count": 2,
   "id": "fdb7b092",
   "metadata": {},
   "outputs": [
    {
     "name": "stdout",
     "output_type": "stream",
     "text": [
      "After adding date: {'apple', 'banana', 'date', 'cherry'}\n",
      "After removing banana: {'apple', 'date', 'cherry'}\n",
      "After discarding banana: {'apple', 'date', 'cherry'}\n"
     ]
    }
   ],
   "source": [
    "# Adding elements\n",
    "fruits.add(\"date\")\n",
    "print(\"After adding date:\", fruits)  # Output: {'apple', 'banana', 'cherry', 'date'}\n",
    "\n",
    "# Removing elements\n",
    "fruits.remove(\"banana\")\n",
    "print(\"After removing banana:\", fruits)  # Output: {'apple', 'cherry', 'date'}\n",
    "\n",
    "# Using discard() to remove an element (no error if the element does not exist)\n",
    "fruits.discard(\"banana\")\n",
    "print(\"After discarding banana:\", fruits)  # Output: {'apple', 'cherry', 'date'}\n"
   ]
  },
  {
   "cell_type": "code",
   "execution_count": null,
   "id": "64e2fdd3",
   "metadata": {},
   "outputs": [],
   "source": []
  }
 ],
 "metadata": {
  "kernelspec": {
   "display_name": "Python 3 (ipykernel)",
   "language": "python",
   "name": "python3"
  },
  "language_info": {
   "codemirror_mode": {
    "name": "ipython",
    "version": 3
   },
   "file_extension": ".py",
   "mimetype": "text/x-python",
   "name": "python",
   "nbconvert_exporter": "python",
   "pygments_lexer": "ipython3",
   "version": "3.11.5"
  }
 },
 "nbformat": 4,
 "nbformat_minor": 5
}
