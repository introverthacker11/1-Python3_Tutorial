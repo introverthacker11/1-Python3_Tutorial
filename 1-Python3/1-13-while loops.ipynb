{
 "cells": [
  {
   "cell_type": "markdown",
   "id": "c896ee7d",
   "metadata": {},
   "source": [
    "###\n",
    "## While Loops:\n",
    "### A while loop in Python is used to repeatedly execute a block of code as long as a given condition is True. This type of loop is particularly useful when the number of iterations is not known beforehand and depends on some condition being met during the runtime.\n",
    "###"
   ]
  },
  {
   "cell_type": "code",
   "execution_count": 4,
   "id": "5069138f",
   "metadata": {},
   "outputs": [
    {
     "name": "stdout",
     "output_type": "stream",
     "text": [
      "10\n",
      "9\n",
      "8\n",
      "7\n",
      "6\n",
      "5\n",
      "4\n",
      "3\n",
      "2\n",
      "1\n"
     ]
    }
   ],
   "source": [
    "a = 10\n",
    "\n",
    "while a > 0 :\n",
    "    print(a)\n",
    "    a = a - 1\n"
   ]
  },
  {
   "cell_type": "code",
   "execution_count": 5,
   "id": "c3e32c14",
   "metadata": {},
   "outputs": [
    {
     "name": "stdout",
     "output_type": "stream",
     "text": [
      "10\n",
      "9\n",
      "8\n",
      "7\n",
      "6\n",
      "5\n"
     ]
    }
   ],
   "source": [
    "a = 10\n",
    "\n",
    "while True :\n",
    "    print(a)\n",
    "    a = a - 1\n",
    "    \n",
    "    if a < 5 :\n",
    "        break"
   ]
  },
  {
   "cell_type": "code",
   "execution_count": 1,
   "id": "b233f150",
   "metadata": {},
   "outputs": [
    {
     "name": "stdout",
     "output_type": "stream",
     "text": [
      "Enter 'exit' to stop: Hello\n",
      "Enter 'exit' to stop: Hi\n",
      "Enter 'exit' to stop: Free Palestine\n",
      "Enter 'exit' to stop: Exit\n",
      "Enter 'exit' to stop: exit\n"
     ]
    }
   ],
   "source": [
    "while True:\n",
    "    user_input = input(\"Enter 'exit' to stop: \")\n",
    "    if user_input == 'exit':\n",
    "        break\n"
   ]
  },
  {
   "cell_type": "code",
   "execution_count": 7,
   "id": "702125b3",
   "metadata": {},
   "outputs": [
    {
     "name": "stdout",
     "output_type": "stream",
     "text": [
      "Enter number 1: 123\n",
      "Enter number 2: 10\n",
      "\n",
      "Operations on 123.0 & 10.0:\n",
      "\n",
      "133.0 113.0 1230.0 12.3\n",
      "Wanna run again(y/n)?: Y\n",
      "Enter number 1: 12\n",
      "Enter number 2: 100\n",
      "\n",
      "Operations on 12.0 & 100.0:\n",
      "\n",
      "112.0 -88.0 1200.0 0.12\n",
      "Wanna run again(y/n)?: n\n",
      "You choose to exit!\n",
      "Goodbye\n"
     ]
    }
   ],
   "source": [
    "while True :\n",
    "    \n",
    "    num1 = float(input('Enter number 1: '))\n",
    "    num2 = float(input('Enter number 2: '))\n",
    "\n",
    "    add = num1 + num2\n",
    "    sub = num1 - num2\n",
    "    mul = num1 * num2\n",
    "    div = num1 / num2\n",
    "\n",
    "    print(f'\\nOperations on {num1} & {num2}:\\n')\n",
    "\n",
    "    print(add,sub,mul,div)\n",
    "    \n",
    "    ask = input('Wanna run again(y/n)?: ')\n",
    "    \n",
    "    if ask == 'n' :\n",
    "        print('\\nYou choose to exit!\\nGoodbye')\n",
    "        break"
   ]
  },
  {
   "cell_type": "code",
   "execution_count": 15,
   "id": "c7504991",
   "metadata": {},
   "outputs": [
    {
     "name": "stdout",
     "output_type": "stream",
     "text": [
      "Which number's table you want?: 123.009\n",
      "Till where you want the table of 123.009?: 15\n",
      "\n",
      "Result:\n",
      "\n",
      "123.009 * 0 = 0.0\n",
      "123.009 * 1 = 123.009\n",
      "123.009 * 2 = 246.018\n",
      "123.009 * 3 = 369.027\n",
      "123.009 * 4 = 492.036\n",
      "123.009 * 5 = 615.045\n",
      "123.009 * 6 = 738.054\n",
      "123.009 * 7 = 861.063\n",
      "123.009 * 8 = 984.072\n",
      "123.009 * 9 = 1107.081\n",
      "123.009 * 10 = 1230.09\n",
      "123.009 * 11 = 1353.099\n",
      "123.009 * 12 = 1476.108\n",
      "123.009 * 13 = 1599.117\n",
      "123.009 * 14 = 1722.126\n",
      "123.009 * 15 = 1845.135\n"
     ]
    }
   ],
   "source": [
    "ask = float(input('Which number\\'s table you want?: '))\n",
    "till = int(input(f'Till where you want the table of {ask}?: '))\n",
    "x = 0\n",
    "print('\\nResult:\\n')\n",
    "\n",
    "while x <= till :\n",
    "    result = f'{ask} * {x} = {ask * x}'\n",
    "    x = x + 1\n",
    "    print(result)"
   ]
  },
  {
   "cell_type": "code",
   "execution_count": 3,
   "id": "04fb371b",
   "metadata": {},
   "outputs": [
    {
     "name": "stdout",
     "output_type": "stream",
     "text": [
      "Enter a number (0 to stop): 1\n",
      "Enter a number (0 to stop): 2\n",
      "Enter a number (0 to stop): 2\n",
      "Enter a number (0 to stop): 3\n",
      "Enter a number (0 to stop): 4\n",
      "Enter a number (0 to stop): 0\n",
      "[1, 2, 2, 3, 4]\n"
     ]
    }
   ],
   "source": [
    "numbers = []\n",
    "while True:\n",
    "    num = int(input(\"Enter a number (0 to stop): \"))\n",
    "    if num == 0:\n",
    "        break\n",
    "    numbers.append(num)\n",
    "print(numbers)\n"
   ]
  }
 ],
 "metadata": {
  "kernelspec": {
   "display_name": "Python 3 (ipykernel)",
   "language": "python",
   "name": "python3"
  },
  "language_info": {
   "codemirror_mode": {
    "name": "ipython",
    "version": 3
   },
   "file_extension": ".py",
   "mimetype": "text/x-python",
   "name": "python",
   "nbconvert_exporter": "python",
   "pygments_lexer": "ipython3",
   "version": "3.11.5"
  }
 },
 "nbformat": 4,
 "nbformat_minor": 5
}
