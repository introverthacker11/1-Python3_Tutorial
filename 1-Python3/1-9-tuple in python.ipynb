{
 "cells": [
  {
   "cell_type": "markdown",
   "id": "c4a0a62f",
   "metadata": {},
   "source": [
    "###\n",
    "## Tuples:\n",
    "### A tuple is a built-in data type that is used to store a collection of items. Unlike lists, tuples are immutable, meaning once they are created, their elements cannot be changed. Tuples are defined by enclosing the elements in parentheses () instead of square brackets [].\n",
    "###"
   ]
  },
  {
   "cell_type": "markdown",
   "id": "1778e0d3",
   "metadata": {},
   "source": [
    "**Key Characteristics of Tuples:**\n",
    "\n",
    "- Ordered: Tuples maintain the order of the elements, which can be accessed via indexing.\n",
    "\n",
    "- Immutable: Once a tuple is created, its elements cannot be modified, added, or removed.\n",
    "\n",
    "- Heterogeneous: Tuples can contain elements of different data types, including numbers, strings, and other tuples."
   ]
  },
  {
   "cell_type": "code",
   "execution_count": 1,
   "id": "392895b0",
   "metadata": {},
   "outputs": [
    {
     "data": {
      "text/plain": [
       "(tuple, 3)"
      ]
     },
     "execution_count": 1,
     "metadata": {},
     "output_type": "execute_result"
    }
   ],
   "source": [
    "a = ('Apple','Samsung','Orange')\n",
    "type(a),len(a) # len means length i.e number of elements"
   ]
  },
  {
   "cell_type": "code",
   "execution_count": 4,
   "id": "3af56124",
   "metadata": {},
   "outputs": [],
   "source": [
    "a = ('Apple','Orange','hello')\n",
    "#a[0] = 0 # it willgive an error as we cannot modify tuples, must comment this line to run the further code"
   ]
  },
  {
   "cell_type": "code",
   "execution_count": 6,
   "id": "b7dfb650",
   "metadata": {},
   "outputs": [
    {
     "data": {
      "text/plain": [
       "(['Apple', 'Orange', 'hello', 11], list)"
      ]
     },
     "execution_count": 6,
     "metadata": {},
     "output_type": "execute_result"
    }
   ],
   "source": [
    "b = list(a)     # to modify a tuple, first we will convert it to a list\n",
    "b.append(11)\n",
    "b,type(b)\n"
   ]
  },
  {
   "cell_type": "code",
   "execution_count": 8,
   "id": "ef723c5a",
   "metadata": {},
   "outputs": [
    {
     "data": {
      "text/plain": [
       "(('Rayyan', 19, 'Ahmed', 'Rayyan', 19, 'Ahmed'),\n",
       " ('Rayyan', 19, 'Ahmed', 'Rayyan', 19, 'Ahmed', 'Rayyan', 19, 'Ahmed'))"
      ]
     },
     "execution_count": 8,
     "metadata": {},
     "output_type": "execute_result"
    }
   ],
   "source": [
    "x = ('Rayyan',19,'Ahmed')\n",
    "y = x * 2\n",
    "y, x + y"
   ]
  },
  {
   "cell_type": "markdown",
   "id": "b95e40b1",
   "metadata": {},
   "source": [
    "###\n",
    "### Creating Tuples:\n",
    "###"
   ]
  },
  {
   "cell_type": "code",
   "execution_count": 2,
   "id": "d64ca273",
   "metadata": {},
   "outputs": [
    {
     "name": "stdout",
     "output_type": "stream",
     "text": [
      "Empty tuple: ()\n",
      "Tuple with integers: (1, 2, 3, 4, 5)\n",
      "Tuple with mixed data types: (1, 'Hello', 3.14, True)\n",
      "Single element tuple: (1,)\n",
      "Packed tuple: (1, 2, 3, 4, 5)\n"
     ]
    }
   ],
   "source": [
    "# Creating an empty tuple\n",
    "empty_tuple = ()\n",
    "\n",
    "# Creating a tuple with integers\n",
    "numbers = (1, 2, 3, 4, 5)\n",
    "\n",
    "# Creating a tuple with mixed data types\n",
    "mixed_tuple = (1, \"Hello\", 3.14, True)\n",
    "\n",
    "# Creating a tuple with a single element (note the comma)\n",
    "single_element_tuple = (1,)\n",
    "\n",
    "# Creating a tuple without parentheses (tuple packing)\n",
    "packed_tuple = 1, 2, 3, 4, 5\n",
    "\n",
    "# Printing the tuples\n",
    "print(\"Empty tuple:\", empty_tuple)\n",
    "print(\"Tuple with integers:\", numbers)\n",
    "print(\"Tuple with mixed data types:\", mixed_tuple)\n",
    "print(\"Single element tuple:\", single_element_tuple)\n",
    "print(\"Packed tuple:\", packed_tuple)\n"
   ]
  },
  {
   "cell_type": "markdown",
   "id": "929bea81",
   "metadata": {},
   "source": [
    "###\n",
    "## Tuple Operations:\n",
    "###"
   ]
  },
  {
   "cell_type": "code",
   "execution_count": 3,
   "id": "f176f84c",
   "metadata": {},
   "outputs": [
    {
     "name": "stdout",
     "output_type": "stream",
     "text": [
      "Concatenated tuple: (1, 2, 3, 4, 5, 6)\n",
      "Repeated tuple: (1, 2, 3, 1, 2, 3, 1, 2, 3)\n",
      "Is 2 in tuple1? True\n"
     ]
    }
   ],
   "source": [
    "# Concatenation\n",
    "tuple1 = (1, 2, 3)\n",
    "tuple2 = (4, 5, 6)\n",
    "combined_tuple = tuple1 + tuple2\n",
    "print(\"Concatenated tuple:\", combined_tuple)  # Output: (1, 2, 3, 4, 5, 6)\n",
    "\n",
    "# Repetition\n",
    "repeated_tuple = tuple1 * 3\n",
    "print(\"Repeated tuple:\", repeated_tuple)  # Output: (1, 2, 3, 1, 2, 3, 1, 2, 3)\n",
    "\n",
    "# Membership test\n",
    "is_present = 2 in tuple1\n",
    "print(\"Is 2 in tuple1?\", is_present)  # Output: True\n"
   ]
  },
  {
   "cell_type": "markdown",
   "id": "b121c436",
   "metadata": {},
   "source": [
    "###\n",
    "## Tuple Methods:\n",
    "###"
   ]
  },
  {
   "cell_type": "code",
   "execution_count": 4,
   "id": "4fe1ec5d",
   "metadata": {},
   "outputs": [
    {
     "name": "stdout",
     "output_type": "stream",
     "text": [
      "Count of 1: 3\n",
      "Index of first 2: 1\n"
     ]
    }
   ],
   "source": [
    "# Using count() and index() methods\n",
    "example_tuple = (1, 2, 3, 1, 2, 1)\n",
    "\n",
    "count_of_ones = example_tuple.count(1)\n",
    "index_of_first_two = example_tuple.index(2)\n",
    "\n",
    "print(\"Count of 1:\", count_of_ones)  # Output: 3\n",
    "print(\"Index of first 2:\", index_of_first_two)  # Output: 1\n"
   ]
  },
  {
   "cell_type": "code",
   "execution_count": null,
   "id": "bd3cd6f7",
   "metadata": {},
   "outputs": [],
   "source": []
  }
 ],
 "metadata": {
  "kernelspec": {
   "display_name": "Python 3 (ipykernel)",
   "language": "python",
   "name": "python3"
  },
  "language_info": {
   "codemirror_mode": {
    "name": "ipython",
    "version": 3
   },
   "file_extension": ".py",
   "mimetype": "text/x-python",
   "name": "python",
   "nbconvert_exporter": "python",
   "pygments_lexer": "ipython3",
   "version": "3.11.5"
  }
 },
 "nbformat": 4,
 "nbformat_minor": 5
}
