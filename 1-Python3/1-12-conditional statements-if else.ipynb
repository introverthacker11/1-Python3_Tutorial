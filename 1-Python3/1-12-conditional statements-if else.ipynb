{
 "cells": [
  {
   "cell_type": "markdown",
   "id": "d36ea30c",
   "metadata": {},
   "source": [
    "###\n",
    "## Conditional Statements:\n",
    "### Conditional statements in Python are used to execute a block of code only if a specified condition is met. They allow the program to make decisions and execute different paths based on different conditions.\n",
    "###"
   ]
  },
  {
   "cell_type": "code",
   "execution_count": 1,
   "id": "6e90d9ed",
   "metadata": {},
   "outputs": [
    {
     "name": "stdout",
     "output_type": "stream",
     "text": [
      "By\n"
     ]
    }
   ],
   "source": [
    "a = 100\n",
    "b = 101\n",
    "\n",
    "if a > b :\n",
    "    print('Hi')\n",
    "    \n",
    "else :\n",
    "    print('By')"
   ]
  },
  {
   "cell_type": "code",
   "execution_count": null,
   "id": "88946a2c",
   "metadata": {},
   "outputs": [],
   "source": []
  },
  {
   "cell_type": "code",
   "execution_count": 2,
   "id": "60bb18db",
   "metadata": {},
   "outputs": [
    {
     "name": "stdout",
     "output_type": "stream",
     "text": [
      "Enter your age: 12\n",
      "\n",
      "You cannot vote!\n",
      "Only 18+ people allowed.\n"
     ]
    }
   ],
   "source": [
    "age = int(input('Enter your age: '))\n",
    "\n",
    "if 114 > age > 18 :\n",
    "    print('\\nYou can vote.')\n",
    "    \n",
    "elif age == 18 :\n",
    "    print('\\nYou can vote for the first time.')\n",
    "    \n",
    "elif age > 114 :\n",
    "    print('\\nThere no person on earth of this age.')\n",
    "    \n",
    "else :\n",
    "    print('\\nYou cannot vote!\\nOnly 18+ people allowed.')"
   ]
  },
  {
   "cell_type": "code",
   "execution_count": 11,
   "id": "d10d2878",
   "metadata": {},
   "outputs": [
    {
     "name": "stdout",
     "output_type": "stream",
     "text": [
      "Enter number 1: 123.098\n",
      "Enter number 2: 111.009\n",
      "Enter operator (+,-,*,/,%): +\n",
      "123.098 + 111.009 = 234.107.\n"
     ]
    }
   ],
   "source": [
    "num1 = float(input('Enter number 1: '))\n",
    "num2 = float(input('Enter number 2: '))\n",
    "operator = input('Enter operator (+,-,*,/,%): ')\n",
    "\n",
    "if operator == '+' :\n",
    "    print(f'\\n{num1} + {num2} = {num1 + num2}.')\n",
    "    \n",
    "elif operator == '-' :\n",
    "    print(f'\\n{num1} - {num2} = {num1 - num2}.')\n",
    "    \n",
    "elif operator == '*' :\n",
    "    print(f'\\n{num1} * {num2} = {num1 * num2}.')\n",
    "    \n",
    "elif operator == '/' :\n",
    "    print(f'\\n{num1} / {num2} = {num1 / num2}.')\n",
    "    \n",
    "elif operator == '%' :\n",
    "    print(f'\\n{num1} % {num2} = {num1 % num2}.')\n",
    "    \n",
    "else :\n",
    "    print('Enter correct operator!')"
   ]
  },
  {
   "cell_type": "code",
   "execution_count": 23,
   "id": "ce8d20b9",
   "metadata": {},
   "outputs": [
    {
     "name": "stdout",
     "output_type": "stream",
     "text": [
      "Enter a word: l\n",
      "It's not a vowel.\n"
     ]
    }
   ],
   "source": [
    "word = input('Enter a word: ')\n",
    "\n",
    "if word == 'a' or word == 'e' or word == 'i' or word == 'o' or word == 'u' :\n",
    "    print('It\\'s a vowel.')\n",
    "    \n",
    "else :\n",
    "    print('It\\'s not a vowel.')"
   ]
  },
  {
   "cell_type": "code",
   "execution_count": 4,
   "id": "e54eb6f0",
   "metadata": {},
   "outputs": [
    {
     "name": "stdout",
     "output_type": "stream",
     "text": [
      "Empty list is considered False\n"
     ]
    }
   ],
   "source": [
    "if []:\n",
    "    print(\"This will not print\")\n",
    "else:\n",
    "    print(\"Empty list is considered False\")\n"
   ]
  },
  {
   "cell_type": "markdown",
   "id": "cf4dee05",
   "metadata": {},
   "source": [
    "##\n",
    "### Nested Conditional Statements\n",
    "##"
   ]
  },
  {
   "cell_type": "code",
   "execution_count": 5,
   "id": "4ccc05a4",
   "metadata": {},
   "outputs": [
    {
     "name": "stdout",
     "output_type": "stream",
     "text": [
      "Enter Password to play game: Free Palestine\n",
      "Access Granted.\n",
      "\n",
      "Enter your guess: 13\n",
      "\n",
      "Correct Guess! You won.\n"
     ]
    }
   ],
   "source": [
    "pass_ = 'Free Palestine'\n",
    "passw = input('Enter Password to play game: ')\n",
    "sec_num = 13\n",
    "\n",
    "if pass_ == passw :\n",
    "    \n",
    "    print('Access Granted.')\n",
    "    guess = int(input('\\nEnter your guess: '))\n",
    "    \n",
    "    if guess == sec_num :\n",
    "        print('\\nCorrect Guess! You won.')\n",
    "    \n",
    "    else :\n",
    "        print('\\nIncorrect Guess! Try again.')\n",
    "    \n",
    "else :\n",
    "    print('Access Denied!')"
   ]
  },
  {
   "cell_type": "code",
   "execution_count": 1,
   "id": "f6cb0f29",
   "metadata": {},
   "outputs": [
    {
     "name": "stdout",
     "output_type": "stream",
     "text": [
      "x is greater than 5 and y is greater than 15\n"
     ]
    }
   ],
   "source": [
    "x = 10\n",
    "y = 20\n",
    "if x > 5:\n",
    "    if y > 15:\n",
    "        print(\"x is greater than 5 and y is greater than 15\")\n"
   ]
  },
  {
   "cell_type": "code",
   "execution_count": 2,
   "id": "e9988cd9",
   "metadata": {},
   "outputs": [
    {
     "name": "stdout",
     "output_type": "stream",
     "text": [
      "x is greater than 5 and y is greater than 15\n"
     ]
    }
   ],
   "source": [
    "x = 10\n",
    "y = 20\n",
    "if x > 5 and y > 15:\n",
    "    print(\"x is greater than 5 and y is greater than 15\")\n"
   ]
  },
  {
   "cell_type": "code",
   "execution_count": 3,
   "id": "cc076ee8",
   "metadata": {},
   "outputs": [
    {
     "name": "stdout",
     "output_type": "stream",
     "text": [
      "x is greater than 5\n"
     ]
    }
   ],
   "source": [
    "x = 10\n",
    "result = \"x is greater than 5\" if x > 5 else \"x is not greater than 5\"\n",
    "print(result)\n"
   ]
  },
  {
   "cell_type": "code",
   "execution_count": null,
   "id": "4401ccce",
   "metadata": {},
   "outputs": [],
   "source": []
  }
 ],
 "metadata": {
  "kernelspec": {
   "display_name": "Python 3 (ipykernel)",
   "language": "python",
   "name": "python3"
  },
  "language_info": {
   "codemirror_mode": {
    "name": "ipython",
    "version": 3
   },
   "file_extension": ".py",
   "mimetype": "text/x-python",
   "name": "python",
   "nbconvert_exporter": "python",
   "pygments_lexer": "ipython3",
   "version": "3.11.5"
  }
 },
 "nbformat": 4,
 "nbformat_minor": 5
}
