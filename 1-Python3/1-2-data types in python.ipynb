{
 "cells": [
  {
   "cell_type": "markdown",
   "id": "5e1ebb79",
   "metadata": {},
   "source": [
    "## Python Data Types\n",
    "\n",
    "### Data types means that what is the type of data entered.\n",
    "### Python has the following data types built-in by default, in these categories:\n",
    "\n",
    "### Text Type: _______str\n",
    "### Numeric Types: ___int,float,complex\n",
    "### Sequence Types: __list,tuple,range\n",
    "### Mapping Type: ____dict\n",
    "### Set Types: _______set,frozenset\n",
    "### Boolean Type: ____bool\n",
    "### Binary Types: ____bytes, bytearray, memoryview\n",
    "### None Type: _______NoneType\n",
    "##"
   ]
  },
  {
   "cell_type": "code",
   "execution_count": 1,
   "id": "54bd6f10",
   "metadata": {},
   "outputs": [
    {
     "data": {
      "text/plain": [
       "(float, int, str, bytes)"
      ]
     },
     "execution_count": 1,
     "metadata": {},
     "output_type": "execute_result"
    }
   ],
   "source": [
    "type(0.5),type(10),type('String'),type(b'Hello')"
   ]
  },
  {
   "cell_type": "code",
   "execution_count": 2,
   "id": "c5999a72",
   "metadata": {},
   "outputs": [
    {
     "data": {
      "text/plain": [
       "(str, int, float)"
      ]
     },
     "execution_count": 2,
     "metadata": {},
     "output_type": "execute_result"
    }
   ],
   "source": [
    "a = 'Rayyan Ahmed'\n",
    "b = 10\n",
    "c = 10.987\n",
    "type(a),type(b),type(c)"
   ]
  },
  {
   "cell_type": "code",
   "execution_count": 3,
   "id": "37ce3174",
   "metadata": {},
   "outputs": [
    {
     "data": {
      "text/plain": [
       "(complex, complex, complex, complex, complex)"
      ]
     },
     "execution_count": 3,
     "metadata": {},
     "output_type": "execute_result"
    }
   ],
   "source": [
    "type(1j), type(1 * 1j), type(1 + 1j), type(1 - 1j), type(1 / 1j)"
   ]
  },
  {
   "cell_type": "code",
   "execution_count": null,
   "id": "1db8bc7a",
   "metadata": {},
   "outputs": [],
   "source": []
  }
 ],
 "metadata": {
  "kernelspec": {
   "display_name": "Python 3 (ipykernel)",
   "language": "python",
   "name": "python3"
  },
  "language_info": {
   "codemirror_mode": {
    "name": "ipython",
    "version": 3
   },
   "file_extension": ".py",
   "mimetype": "text/x-python",
   "name": "python",
   "nbconvert_exporter": "python",
   "pygments_lexer": "ipython3",
   "version": "3.11.5"
  }
 },
 "nbformat": 4,
 "nbformat_minor": 5
}
