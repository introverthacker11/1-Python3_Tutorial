{
 "cells": [
  {
   "cell_type": "markdown",
   "id": "d51841f7",
   "metadata": {},
   "source": [
    "######\n",
    "**String Slicing or Indexing is a method of getting a specific word from given sentence or paragraph.**\n",
    "\n",
    "It starts from  0 i.e: 0 means 1st word, -1 means last word, -2 means 2nd last word. Blank spaces are also counted.\n",
    "\n",
    "######"
   ]
  },
  {
   "cell_type": "code",
   "execution_count": 1,
   "id": "dfee6850",
   "metadata": {},
   "outputs": [
    {
     "data": {
      "text/plain": [
       "'B'"
      ]
     },
     "execution_count": 1,
     "metadata": {},
     "output_type": "execute_result"
    }
   ],
   "source": [
    "a = 'Best luck to all of you!'\n",
    "a\n",
    "a[0]"
   ]
  },
  {
   "cell_type": "code",
   "execution_count": 2,
   "id": "2ea15b72",
   "metadata": {},
   "outputs": [
    {
     "data": {
      "text/plain": [
       "' '"
      ]
     },
     "execution_count": 2,
     "metadata": {},
     "output_type": "execute_result"
    }
   ],
   "source": [
    "a[12]\n"
   ]
  },
  {
   "cell_type": "code",
   "execution_count": 3,
   "id": "6ae7ae08",
   "metadata": {},
   "outputs": [
    {
     "data": {
      "text/plain": [
       "'est l'"
      ]
     },
     "execution_count": 3,
     "metadata": {},
     "output_type": "execute_result"
    }
   ],
   "source": [
    "a[1:6]"
   ]
  },
  {
   "cell_type": "code",
   "execution_count": 4,
   "id": "417e04b2",
   "metadata": {},
   "outputs": [
    {
     "data": {
      "text/plain": [
       "'uck to all of you!'"
      ]
     },
     "execution_count": 4,
     "metadata": {},
     "output_type": "execute_result"
    }
   ],
   "source": [
    "a[6:]"
   ]
  },
  {
   "cell_type": "code",
   "execution_count": 5,
   "id": "8c845a08",
   "metadata": {},
   "outputs": [
    {
     "data": {
      "text/plain": [
       "'Best luck t'"
      ]
     },
     "execution_count": 5,
     "metadata": {},
     "output_type": "execute_result"
    }
   ],
   "source": [
    "a[:11]"
   ]
  },
  {
   "cell_type": "code",
   "execution_count": 8,
   "id": "a12ded95",
   "metadata": {},
   "outputs": [
    {
     "data": {
      "text/plain": [
       "(' succeded!', ' su')"
      ]
     },
     "execution_count": 8,
     "metadata": {},
     "output_type": "execute_result"
    }
   ],
   "source": [
    "w = 'You all will be succeded!'\n",
    "w[-10:], w[-10:-7]"
   ]
  }
 ],
 "metadata": {
  "kernelspec": {
   "display_name": "Python 3 (ipykernel)",
   "language": "python",
   "name": "python3"
  },
  "language_info": {
   "codemirror_mode": {
    "name": "ipython",
    "version": 3
   },
   "file_extension": ".py",
   "mimetype": "text/x-python",
   "name": "python",
   "nbconvert_exporter": "python",
   "pygments_lexer": "ipython3",
   "version": "3.11.5"
  }
 },
 "nbformat": 4,
 "nbformat_minor": 5
}
