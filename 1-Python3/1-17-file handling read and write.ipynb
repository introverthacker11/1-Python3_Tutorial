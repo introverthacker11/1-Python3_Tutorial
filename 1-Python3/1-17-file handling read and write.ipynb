{
 "cells": [
  {
   "cell_type": "markdown",
   "id": "e2e0f9dc",
   "metadata": {},
   "source": [
    "###\n",
    "### 'r' = Read.Default Value.Opens a file for reading, error if the file doesn't exist.\n",
    "### 'a' = Append.Opens a file for appending, creates the file if it does not exist.\n",
    "### 'w' = Write.Opens a file for writing, creates the file if it does not exist.\n",
    "### 'x' = Create.Creates the specified file, returns an error if the file exists.\n",
    "###### 't' = Text Mode\n",
    "###### 'b' = Create Binary\n",
    "###"
   ]
  },
  {
   "cell_type": "code",
   "execution_count": 22,
   "id": "61a2a5d4",
   "metadata": {},
   "outputs": [
    {
     "data": {
      "text/plain": [
       "'This is line 3.'"
      ]
     },
     "execution_count": 22,
     "metadata": {},
     "output_type": "execute_result"
    }
   ],
   "source": [
    "# opening file\n",
    "\n",
    "f = open('data/file.txt')\n",
    "#f.read()\n",
    "f.readline()\n",
    "f.readline()\n",
    "f.readline()\n"
   ]
  },
  {
   "cell_type": "code",
   "execution_count": 25,
   "id": "0c95810d",
   "metadata": {},
   "outputs": [
    {
     "data": {
      "text/plain": [
       "['This is line 1.', 'This is line 2.', 'This is line 3.']"
      ]
     },
     "execution_count": 25,
     "metadata": {},
     "output_type": "execute_result"
    }
   ],
   "source": [
    "f = open('data/file.txt')\n",
    "a = f.readlines()\n",
    "b = [x.strip() for x in a]\n"
   ]
  },
  {
   "cell_type": "code",
   "execution_count": 37,
   "id": "d8efd3df",
   "metadata": {},
   "outputs": [],
   "source": [
    "f = open('data/file.txt')\n",
    "a = f.read()\n",
    "a.split('\\n')\n",
    "f.close() # you can't read file after closing it\n",
    "#f.read() # comment"
   ]
  },
  {
   "cell_type": "code",
   "execution_count": 38,
   "id": "32988bca",
   "metadata": {},
   "outputs": [],
   "source": [
    "# creating a new file\n",
    "\n",
    "f = open('data/file1.txt','w')\n",
    "f.write('This is line 01')\n",
    "f.write('\\nThis is line 02')\n",
    "f.close()"
   ]
  },
  {
   "cell_type": "code",
   "execution_count": 45,
   "id": "d19431c6",
   "metadata": {},
   "outputs": [],
   "source": [
    "# appending file\n",
    "\n",
    "f = open('data/file1.txt','a')\n",
    "f.write('\\nThis is line 01')\n",
    "f.write('\\nThis is line 02')\n",
    "f.close()"
   ]
  },
  {
   "cell_type": "code",
   "execution_count": 49,
   "id": "5546bfb3",
   "metadata": {},
   "outputs": [],
   "source": [
    "# appending file\n",
    "\n",
    "f = open('data/file.txt','a')\n",
    "f.write('\\nThis is line 4.')\n",
    "f.write('\\nThis is line 5.')\n",
    "f.close()"
   ]
  }
 ],
 "metadata": {
  "kernelspec": {
   "display_name": "Python 3 (ipykernel)",
   "language": "python",
   "name": "python3"
  },
  "language_info": {
   "codemirror_mode": {
    "name": "ipython",
    "version": 3
   },
   "file_extension": ".py",
   "mimetype": "text/x-python",
   "name": "python",
   "nbconvert_exporter": "python",
   "pygments_lexer": "ipython3",
   "version": "3.11.5"
  }
 },
 "nbformat": 4,
 "nbformat_minor": 5
}
