{
 "cells": [
  {
   "cell_type": "markdown",
   "id": "a23e156f",
   "metadata": {},
   "source": [
    "###\n",
    "## Dictionary:\n",
    "### A dictionary in Python is an unordered, mutable collection of items. Each item is stored as a key-value pair, where the key is unique within the dictionary, and the value can be of any data type. Dictionaries are often used to store data values like a map, unlike other data types that hold only a single value as an element.\n",
    "###"
   ]
  },
  {
   "cell_type": "markdown",
   "id": "66f151de",
   "metadata": {},
   "source": [
    "**Characterstics of Dictionary:**\n",
    "\n",
    "- Dictionaries do not maintain any order for the keys or values. Starting from Python 3.7, dictionaries maintain the insertion order, but this was not the case in earlier versions.\n",
    "\n",
    "- You can change, add, or remove items after the dictionary has been created.\n",
    "\n",
    "- Unlike lists or tuples that are indexed by position, dictionaries are indexed by keys.\n",
    "\n",
    "- Each key in a dictionary must be unique. If you use the same key twice, the second value will overwrite the first.\n",
    "\n",
    "- Keys can be of any immutable data type, such as strings, numbers, or tuples.\n",
    "\n",
    "- "
   ]
  },
  {
   "cell_type": "code",
   "execution_count": 19,
   "id": "0f2b4973",
   "metadata": {},
   "outputs": [
    {
     "data": {
      "text/plain": [
       "({'Name': 'Rayyan', 'Age': 19}, dict)"
      ]
     },
     "execution_count": 19,
     "metadata": {},
     "output_type": "execute_result"
    }
   ],
   "source": [
    "a = {'Name' : 'Rayyan', 'Age' : 19}\n",
    "a,type(a)\n"
   ]
  },
  {
   "cell_type": "code",
   "execution_count": 20,
   "id": "f9d1cf69",
   "metadata": {},
   "outputs": [
    {
     "data": {
      "text/plain": [
       "('Rayyan', 19)"
      ]
     },
     "execution_count": 20,
     "metadata": {},
     "output_type": "execute_result"
    }
   ],
   "source": [
    "a['Name'], a['Age']"
   ]
  },
  {
   "cell_type": "code",
   "execution_count": 34,
   "id": "284f8f71",
   "metadata": {},
   "outputs": [
    {
     "data": {
      "text/plain": [
       "1.0"
      ]
     },
     "execution_count": 34,
     "metadata": {},
     "output_type": "execute_result"
    }
   ],
   "source": [
    "a = {'One' : 1, 'Two' : 2, 'One' : 3}\n",
    "a['One']\n",
    "a['One'] = 1.0\n",
    "a['One']"
   ]
  },
  {
   "cell_type": "code",
   "execution_count": 35,
   "id": "a983c9f5",
   "metadata": {},
   "outputs": [
    {
     "data": {
      "text/plain": [
       "({'One': 1.0, 'Two': 2}, {'One': 1.0, 'Two': 2})"
      ]
     },
     "execution_count": 35,
     "metadata": {},
     "output_type": "execute_result"
    }
   ],
   "source": [
    "b = a.copy()\n",
    "a,b"
   ]
  },
  {
   "cell_type": "code",
   "execution_count": 22,
   "id": "17f1446b",
   "metadata": {},
   "outputs": [
    {
     "data": {
      "text/plain": [
       "(True, False)"
      ]
     },
     "execution_count": 22,
     "metadata": {},
     "output_type": "execute_result"
    }
   ],
   "source": [
    "a == b, a != b"
   ]
  },
  {
   "cell_type": "code",
   "execution_count": 23,
   "id": "7a4c887c",
   "metadata": {},
   "outputs": [
    {
     "data": {
      "text/plain": [
       "dict_keys(['Country', 'Continent', 'Population'])"
      ]
     },
     "execution_count": 23,
     "metadata": {},
     "output_type": "execute_result"
    }
   ],
   "source": [
    "a = {'Country' : 'Pakistan' , 'Continent' : 'Asia' , 'Population' : 240000000}\n",
    "a.keys()"
   ]
  },
  {
   "cell_type": "code",
   "execution_count": 24,
   "id": "9bfac29c",
   "metadata": {},
   "outputs": [
    {
     "data": {
      "text/plain": [
       "dict_values(['Pakistan', 'Asia', 240000000])"
      ]
     },
     "execution_count": 24,
     "metadata": {},
     "output_type": "execute_result"
    }
   ],
   "source": [
    "a.values()\n"
   ]
  },
  {
   "cell_type": "code",
   "execution_count": 25,
   "id": "f6ab9125",
   "metadata": {},
   "outputs": [
    {
     "data": {
      "text/plain": [
       "{'Country': 'Pakistan',\n",
       " 'Continent': 'Asia',\n",
       " 'Population': 240000000,\n",
       " 'Planet': 'Earth'}"
      ]
     },
     "execution_count": 25,
     "metadata": {},
     "output_type": "execute_result"
    }
   ],
   "source": [
    "a.update({'Planet' : 'Earth'})\n",
    "a"
   ]
  },
  {
   "cell_type": "code",
   "execution_count": 26,
   "id": "c2d7a7f7",
   "metadata": {},
   "outputs": [
    {
     "data": {
      "text/plain": [
       "('KBV CAA MS&C', {'School': 'GSALBHSS'})"
      ]
     },
     "execution_count": 26,
     "metadata": {},
     "output_type": "execute_result"
    }
   ],
   "source": [
    "a = {'School' : 'GSALBHSS' , 'College' : 'KBV CAA MS&C'}\n",
    "a.pop('College'), a"
   ]
  },
  {
   "cell_type": "code",
   "execution_count": 27,
   "id": "2cddd1f3",
   "metadata": {},
   "outputs": [
    {
     "data": {
      "text/plain": [
       "{'Post': 'CEO & Owner', 'Company': 'AI 4 Everyone'}"
      ]
     },
     "execution_count": 27,
     "metadata": {},
     "output_type": "execute_result"
    }
   ],
   "source": [
    "a = {'Post' : 'CEO & Owner' , 'Company' : 'AI 4 Everyone'}\n",
    "a.pop('Hello',None)\n",
    "a"
   ]
  },
  {
   "cell_type": "code",
   "execution_count": 28,
   "id": "16aa8151",
   "metadata": {},
   "outputs": [
    {
     "data": {
      "text/plain": [
       "'The key you entered after pop is not present in the dictionary.'"
      ]
     },
     "execution_count": 28,
     "metadata": {},
     "output_type": "execute_result"
    }
   ],
   "source": [
    "a.pop('Hello', 'The key you entered after pop is not present in the dictionary.')\n"
   ]
  },
  {
   "cell_type": "code",
   "execution_count": 29,
   "id": "e3f194f5",
   "metadata": {},
   "outputs": [
    {
     "data": {
      "text/plain": [
       "{'Colour': 'Grey', 'Car': 'Tesla'}"
      ]
     },
     "execution_count": 29,
     "metadata": {},
     "output_type": "execute_result"
    }
   ],
   "source": [
    "a = {'Colour' : 'Grey', 'Car' : 'Tesla' , 'Feature' : 'Autopilot'}\n",
    "a.popitem() # it removes the last item entered\n",
    "a"
   ]
  },
  {
   "cell_type": "code",
   "execution_count": 30,
   "id": "185ec421",
   "metadata": {},
   "outputs": [
    {
     "data": {
      "text/plain": [
       "{'One': 1, 'Two': 2, 'Four': 4}"
      ]
     },
     "execution_count": 30,
     "metadata": {},
     "output_type": "execute_result"
    }
   ],
   "source": [
    "a = {'One' : 1, 'Two' : 2, 'Four' : 4, 'Three' : 3}\n",
    "a.popitem()\n",
    "a"
   ]
  },
  {
   "cell_type": "code",
   "execution_count": 31,
   "id": "2ae75fbd",
   "metadata": {},
   "outputs": [
    {
     "data": {
      "text/plain": [
       "({'Jet': 'JF-17', 'Country': 'Pakistan-China'},\n",
       " {'Jet': 'JF-17', 'Country': 'Pakistan-China'})"
      ]
     },
     "execution_count": 31,
     "metadata": {},
     "output_type": "execute_result"
    }
   ],
   "source": [
    "a = {'Jet' : 'JF-17' , 'Country' : 'Pakistan-China' }\n",
    "\n",
    "b = a.copy()\n",
    "a,b"
   ]
  },
  {
   "cell_type": "code",
   "execution_count": 32,
   "id": "e6ae94ea",
   "metadata": {},
   "outputs": [
    {
     "data": {
      "text/plain": [
       "{'Jet': 'JF-17',\n",
       " 'Country': 'Pakistan-China',\n",
       " 'b': {'Jet': 'JF-17', 'Country': 'Pakistan-China'}}"
      ]
     },
     "execution_count": 32,
     "metadata": {},
     "output_type": "execute_result"
    }
   ],
   "source": [
    "a.update({'b' : b})\n",
    "a"
   ]
  },
  {
   "cell_type": "code",
   "execution_count": 33,
   "id": "35822c7f",
   "metadata": {},
   "outputs": [
    {
     "data": {
      "text/plain": [
       "{'Jet': 'JF-17',\n",
       " 'Country': 'Pakistan-China',\n",
       " 'a': {'Jet': 'JF-17', 'Country': 'Pakistan-China', 'b': {...}}}"
      ]
     },
     "execution_count": 33,
     "metadata": {},
     "output_type": "execute_result"
    }
   ],
   "source": [
    "b.update({'a' : a})\n",
    "b"
   ]
  },
  {
   "cell_type": "code",
   "execution_count": null,
   "id": "7217d3aa",
   "metadata": {},
   "outputs": [],
   "source": []
  }
 ],
 "metadata": {
  "kernelspec": {
   "display_name": "Python 3 (ipykernel)",
   "language": "python",
   "name": "python3"
  },
  "language_info": {
   "codemirror_mode": {
    "name": "ipython",
    "version": 3
   },
   "file_extension": ".py",
   "mimetype": "text/x-python",
   "name": "python",
   "nbconvert_exporter": "python",
   "pygments_lexer": "ipython3",
   "version": "3.11.5"
  }
 },
 "nbformat": 4,
 "nbformat_minor": 5
}
