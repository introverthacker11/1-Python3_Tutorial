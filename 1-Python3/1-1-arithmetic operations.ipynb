{
 "cells": [
  {
   "cell_type": "code",
   "execution_count": 20,
   "id": "3846f019",
   "metadata": {},
   "outputs": [
    {
     "data": {
      "text/plain": [
       "13"
      ]
     },
     "execution_count": 20,
     "metadata": {},
     "output_type": "execute_result"
    }
   ],
   "source": [
    "# Addition\n",
    "10 + 3"
   ]
  },
  {
   "cell_type": "code",
   "execution_count": 21,
   "id": "fd463986",
   "metadata": {},
   "outputs": [
    {
     "data": {
      "text/plain": [
       "7"
      ]
     },
     "execution_count": 21,
     "metadata": {},
     "output_type": "execute_result"
    }
   ],
   "source": [
    "# Subtraction\n",
    "10 - 3"
   ]
  },
  {
   "cell_type": "code",
   "execution_count": 22,
   "id": "3fda795e",
   "metadata": {},
   "outputs": [
    {
     "data": {
      "text/plain": [
       "30"
      ]
     },
     "execution_count": 22,
     "metadata": {},
     "output_type": "execute_result"
    }
   ],
   "source": [
    "# Multiplication\n",
    "10 * 3"
   ]
  },
  {
   "cell_type": "code",
   "execution_count": 23,
   "id": "7f695aac",
   "metadata": {},
   "outputs": [
    {
     "data": {
      "text/plain": [
       "3.3333333333333335"
      ]
     },
     "execution_count": 23,
     "metadata": {},
     "output_type": "execute_result"
    }
   ],
   "source": [
    "# Division\n",
    "10 / 3"
   ]
  },
  {
   "cell_type": "code",
   "execution_count": 27,
   "id": "65299cc6",
   "metadata": {},
   "outputs": [
    {
     "data": {
      "text/plain": [
       "3"
      ]
     },
     "execution_count": 27,
     "metadata": {},
     "output_type": "execute_result"
    }
   ],
   "source": [
    "# Floor Division --> It gives answer of division without decimal point i.e: 3 instead of 3.3.3333333333333335\n",
    "10 // 3\n"
   ]
  },
  {
   "cell_type": "code",
   "execution_count": 25,
   "id": "e625db26",
   "metadata": {},
   "outputs": [
    {
     "data": {
      "text/plain": [
       "1"
      ]
     },
     "execution_count": 25,
     "metadata": {},
     "output_type": "execute_result"
    }
   ],
   "source": [
    "# Modulus (remainder) --> It'll divide 10 by 3 and gives us the remainder which is 1\n",
    "10 % 3"
   ]
  },
  {
   "cell_type": "code",
   "execution_count": 33,
   "id": "41841426",
   "metadata": {},
   "outputs": [
    {
     "data": {
      "text/plain": [
       "(10000, 8, 9)"
      ]
     },
     "execution_count": 33,
     "metadata": {},
     "output_type": "execute_result"
    }
   ],
   "source": [
    "# Exponentiation (power) --> 10 ** 4 means 10 raised to the power 4\n",
    "10 ** 4, 2 ** 3, 3 ** 2"
   ]
  },
  {
   "cell_type": "code",
   "execution_count": null,
   "id": "20b47c91",
   "metadata": {},
   "outputs": [],
   "source": []
  }
 ],
 "metadata": {
  "kernelspec": {
   "display_name": "Python 3 (ipykernel)",
   "language": "python",
   "name": "python3"
  },
  "language_info": {
   "codemirror_mode": {
    "name": "ipython",
    "version": 3
   },
   "file_extension": ".py",
   "mimetype": "text/x-python",
   "name": "python",
   "nbconvert_exporter": "python",
   "pygments_lexer": "ipython3",
   "version": "3.11.5"
  }
 },
 "nbformat": 4,
 "nbformat_minor": 5
}
