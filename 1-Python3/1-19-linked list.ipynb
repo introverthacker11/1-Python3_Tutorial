{
 "cells": [
  {
   "cell_type": "markdown",
   "id": "60db182e",
   "metadata": {},
   "source": [
    "###\n",
    "## Linked List:\n",
    "### A linked list is a fundamental data structure in computer science where each element (node) contains a value and a reference (link) to the next node in the sequence. It allows efficient insertion and deletion of elements, especially when compared to arrays, where these operations might require shifting elements.\n",
    "###"
   ]
  },
  {
   "cell_type": "code",
   "execution_count": 1,
   "id": "ef8a0bd1",
   "metadata": {},
   "outputs": [
    {
     "name": "stdout",
     "output_type": "stream",
     "text": [
      "Train Started --> Karachi --> Hyderabad --> Sukkur --> Rawalpindi --> Lahore --> Islamabad --> Train Stopped!\n"
     ]
    }
   ],
   "source": [
    "# using oops\n",
    "\n",
    "class Station:\n",
    "    def __init__(self, station):\n",
    "        self.station = station\n",
    "        self.next = None\n",
    "        \n",
    "station1 = Station('Train Started --> Karachi')\n",
    "station2 = Station('Hyderabad')\n",
    "station3 = Station('Sukkur')\n",
    "station4 = Station('Rawalpindi')\n",
    "station5 = Station('Lahore')\n",
    "station6 = Station('Islamabad')\n",
    "\n",
    "station1.next = station2\n",
    "station2.next = station3\n",
    "station3.next = station4\n",
    "station4.next = station5\n",
    "station5.next = station6\n",
    "\n",
    "\n",
    "current = station1\n",
    "\n",
    "while current:\n",
    "    print(current.station, end = ' --> ')\n",
    "    current = current.next\n",
    "print('Train Stopped!')\n",
    "\n"
   ]
  },
  {
   "cell_type": "code",
   "execution_count": 2,
   "id": "208293cd",
   "metadata": {},
   "outputs": [
    {
     "name": "stdout",
     "output_type": "stream",
     "text": [
      "karachi --> Hyderabad --> Sukkur --> Rawalpindi --> Lahore --> Islamabad --> Utar jao!\n"
     ]
    }
   ],
   "source": [
    "# without oops\n",
    "\n",
    "#list = [1,2,3,4,5,6]\n",
    "\n",
    "station1 = 'karachi'\n",
    "station2 = 'Hyderabad'\n",
    "station3 = 'Sukkur'\n",
    "station4 = 'Rawalpindi'\n",
    "station5 = 'Lahore'\n",
    "station6 = 'Islamabad'\n",
    "\n",
    "print(f'{station1} --> {station2} --> {station3} --> {station4} --> {station5} --> {station6} --> Utar jao!')\n"
   ]
  }
 ],
 "metadata": {
  "kernelspec": {
   "display_name": "Python 3 (ipykernel)",
   "language": "python",
   "name": "python3"
  },
  "language_info": {
   "codemirror_mode": {
    "name": "ipython",
    "version": 3
   },
   "file_extension": ".py",
   "mimetype": "text/x-python",
   "name": "python",
   "nbconvert_exporter": "python",
   "pygments_lexer": "ipython3",
   "version": "3.11.5"
  }
 },
 "nbformat": 4,
 "nbformat_minor": 5
}
