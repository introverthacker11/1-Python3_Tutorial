{
 "cells": [
  {
   "cell_type": "code",
   "execution_count": 2,
   "id": "a0fe23dc",
   "metadata": {},
   "outputs": [
    {
     "data": {
      "text/plain": [
       "'Asia is the largest continent  with china as the largest economy'"
      ]
     },
     "execution_count": 2,
     "metadata": {},
     "output_type": "execute_result"
    }
   ],
   "source": [
    "line1 = 'Asia is the largest continent '\n",
    "line2 = ' with china as the largest economy'\n",
    "line1 + line2"
   ]
  },
  {
   "cell_type": "code",
   "execution_count": 5,
   "id": "eb2789c3",
   "metadata": {},
   "outputs": [
    {
     "data": {
      "text/plain": [
       "('The CEO & Owner is Rayyan Ahmed', str, 31)"
      ]
     },
     "execution_count": 5,
     "metadata": {},
     "output_type": "execute_result"
    }
   ],
   "source": [
    "a = ' is Rayyan Ahmed'\n",
    "b = ' & Owner'\n",
    "c = 'The CEO'\n",
    "\n",
    "d = c + b + a\n",
    "d,type(d),len(d)"
   ]
  },
  {
   "cell_type": "code",
   "execution_count": 6,
   "id": "f2c8495d",
   "metadata": {},
   "outputs": [
    {
     "name": "stdout",
     "output_type": "stream",
     "text": [
      "Enter your name: Rayyan Ahmed\n",
      "Enter age: 19\n",
      "Where you live:Karachi\n",
      "My name is Rayyan Ahmed. I am 19 years old. I live in in Karachi.\n"
     ]
    }
   ],
   "source": [
    "name = input('Enter your name: ')\n",
    "age = int(input('Enter age: '))\n",
    "location = input('Where you live:')\n",
    "print('My name is ' + name + '. I am ' + str(age) + ' years old.' + ' I live in in ' + location + '.')"
   ]
  },
  {
   "cell_type": "code",
   "execution_count": 7,
   "id": "62fa9f52",
   "metadata": {},
   "outputs": [
    {
     "name": "stdout",
     "output_type": "stream",
     "text": [
      "Enter number 1: 123.33\n",
      "Enter number 2: 332\n",
      "Number 1 is 123.33 and Number 2 is 332.0.\n"
     ]
    }
   ],
   "source": [
    "number1 = float(input('Enter number 1: '))\n",
    "number2 = float(input('Enter number 2: '))\n",
    "line1 = 'Number 1 is '\n",
    "line2 = ' and Number 2 is '\n",
    "ans = line1 + str(number1) + line2 + str(number2) + '.' # we cannot concatenate integers so we will convert them to string\n",
    "print(ans)"
   ]
  }
 ],
 "metadata": {
  "kernelspec": {
   "display_name": "Python 3 (ipykernel)",
   "language": "python",
   "name": "python3"
  },
  "language_info": {
   "codemirror_mode": {
    "name": "ipython",
    "version": 3
   },
   "file_extension": ".py",
   "mimetype": "text/x-python",
   "name": "python",
   "nbconvert_exporter": "python",
   "pygments_lexer": "ipython3",
   "version": "3.11.5"
  }
 },
 "nbformat": 4,
 "nbformat_minor": 5
}
