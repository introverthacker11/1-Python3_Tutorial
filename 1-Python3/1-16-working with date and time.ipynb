{
 "cells": [
  {
   "cell_type": "markdown",
   "id": "9b1bf612",
   "metadata": {},
   "source": [
    "**Working with Dates and Times in Python:**\n",
    "\n",
    "Python provides several modules to work with dates and times. The most commonly used are:\n",
    "\n",
    "- datetime module: Provides classes for manipulating dates and times.\n",
    "- time module: Provides time-related functions.\n",
    "- calendar module: Provides functions related to the calendar."
   ]
  },
  {
   "cell_type": "code",
   "execution_count": 22,
   "id": "8c0f1d0a",
   "metadata": {},
   "outputs": [
    {
     "name": "stdout",
     "output_type": "stream",
     "text": [
      "Current date and time: 2024-07-23 15:22:36.273080\n"
     ]
    }
   ],
   "source": [
    "from datetime import datetime\n",
    "\n",
    "now = datetime.now()  # Gets the current date and time\n",
    "print(\"Current date and time:\", now)\n"
   ]
  },
  {
   "cell_type": "code",
   "execution_count": 23,
   "id": "b1b7482b",
   "metadata": {},
   "outputs": [
    {
     "data": {
      "text/plain": [
       "datetime.date(2024, 7, 23)"
      ]
     },
     "execution_count": 23,
     "metadata": {},
     "output_type": "execute_result"
    }
   ],
   "source": [
    "import datetime\n",
    "import time\n",
    "\n",
    "datetime.date.today()"
   ]
  },
  {
   "cell_type": "code",
   "execution_count": 24,
   "id": "74d868a9",
   "metadata": {},
   "outputs": [
    {
     "data": {
      "text/plain": [
       "datetime.date(2024, 7, 23)"
      ]
     },
     "execution_count": 24,
     "metadata": {},
     "output_type": "execute_result"
    }
   ],
   "source": [
    "datetime.date.today()\n"
   ]
  },
  {
   "cell_type": "code",
   "execution_count": 25,
   "id": "6cb7b63e",
   "metadata": {},
   "outputs": [
    {
     "data": {
      "text/plain": [
       "datetime.date(2024, 3, 8)"
      ]
     },
     "execution_count": 25,
     "metadata": {},
     "output_type": "execute_result"
    }
   ],
   "source": [
    "datetime.date(2024, 3, 8)"
   ]
  },
  {
   "cell_type": "code",
   "execution_count": 26,
   "id": "b9c56ce5",
   "metadata": {},
   "outputs": [
    {
     "data": {
      "text/plain": [
       "datetime.date(2024, 7, 23)"
      ]
     },
     "execution_count": 26,
     "metadata": {},
     "output_type": "execute_result"
    }
   ],
   "source": [
    "from datetime import datetime, date, time\n",
    "date.today()\n"
   ]
  },
  {
   "cell_type": "code",
   "execution_count": 27,
   "id": "578bfa46",
   "metadata": {},
   "outputs": [
    {
     "data": {
      "text/plain": [
       "(7111, 614390400.0)"
      ]
     },
     "execution_count": 27,
     "metadata": {},
     "output_type": "execute_result"
    }
   ],
   "source": [
    "import datetime\n",
    "import time\n",
    "\n",
    "date1 = date(2005, 2, 2)\n",
    "date2 = date.today()\n",
    "a = date2 - date1\n",
    "a\n",
    "a.days, a.total_seconds()"
   ]
  },
  {
   "cell_type": "code",
   "execution_count": 29,
   "id": "7dc9cbed",
   "metadata": {},
   "outputs": [
    {
     "data": {
      "text/plain": [
       "datetime.datetime(2024, 3, 8, 0, 0)"
      ]
     },
     "execution_count": 29,
     "metadata": {},
     "output_type": "execute_result"
    }
   ],
   "source": [
    "from datetime import datetime, date, time\n",
    "\n",
    "a = '8 Mar, 2024'\n",
    "datetime.strptime(a,'%d %b, %Y')"
   ]
  },
  {
   "cell_type": "code",
   "execution_count": 30,
   "id": "483fb047",
   "metadata": {},
   "outputs": [
    {
     "name": "stdout",
     "output_type": "stream",
     "text": [
      "Year: 2024, Month: 7, Day: 23\n",
      "Hour: 15, Minute: 24, Second: 16\n"
     ]
    }
   ],
   "source": [
    "from datetime import datetime\n",
    "\n",
    "now = datetime.now()\n",
    "year = now.year\n",
    "month = now.month\n",
    "day = now.day\n",
    "hour = now.hour\n",
    "minute = now.minute\n",
    "second = now.second\n",
    "\n",
    "print(f\"Year: {year}, Month: {month}, Day: {day}\")\n",
    "print(f\"Hour: {hour}, Minute: {minute}, Second: {second}\")\n"
   ]
  },
  {
   "cell_type": "code",
   "execution_count": 31,
   "id": "e2935996",
   "metadata": {},
   "outputs": [
    {
     "name": "stdout",
     "output_type": "stream",
     "text": [
      "Start\n",
      "End\n"
     ]
    }
   ],
   "source": [
    "import time\n",
    "\n",
    "print(\"Start\")\n",
    "time.sleep(5)  # Pause execution for 5 seconds\n",
    "print(\"End\")\n"
   ]
  },
  {
   "cell_type": "markdown",
   "id": "d4f066fe",
   "metadata": {},
   "source": [
    "###\n",
    "## Calender:\n",
    "###"
   ]
  },
  {
   "cell_type": "code",
   "execution_count": 32,
   "id": "e1a25904",
   "metadata": {},
   "outputs": [
    {
     "name": "stdout",
     "output_type": "stream",
     "text": [
      "     July 2024\n",
      "Mo Tu We Th Fr Sa Su\n",
      " 1  2  3  4  5  6  7\n",
      " 8  9 10 11 12 13 14\n",
      "15 16 17 18 19 20 21\n",
      "22 23 24 25 26 27 28\n",
      "29 30 31\n",
      "\n"
     ]
    }
   ],
   "source": [
    "import calendar\n",
    "\n",
    "# Print the calendar for July 2024\n",
    "print(calendar.month(2024, 7))\n"
   ]
  },
  {
   "cell_type": "code",
   "execution_count": 33,
   "id": "70237b77",
   "metadata": {},
   "outputs": [
    {
     "name": "stdout",
     "output_type": "stream",
     "text": [
      "                                  2024\n",
      "\n",
      "      January                   February                   March\n",
      "Mo Tu We Th Fr Sa Su      Mo Tu We Th Fr Sa Su      Mo Tu We Th Fr Sa Su\n",
      " 1  2  3  4  5  6  7                1  2  3  4                   1  2  3\n",
      " 8  9 10 11 12 13 14       5  6  7  8  9 10 11       4  5  6  7  8  9 10\n",
      "15 16 17 18 19 20 21      12 13 14 15 16 17 18      11 12 13 14 15 16 17\n",
      "22 23 24 25 26 27 28      19 20 21 22 23 24 25      18 19 20 21 22 23 24\n",
      "29 30 31                  26 27 28 29               25 26 27 28 29 30 31\n",
      "\n",
      "       April                      May                       June\n",
      "Mo Tu We Th Fr Sa Su      Mo Tu We Th Fr Sa Su      Mo Tu We Th Fr Sa Su\n",
      " 1  2  3  4  5  6  7             1  2  3  4  5                      1  2\n",
      " 8  9 10 11 12 13 14       6  7  8  9 10 11 12       3  4  5  6  7  8  9\n",
      "15 16 17 18 19 20 21      13 14 15 16 17 18 19      10 11 12 13 14 15 16\n",
      "22 23 24 25 26 27 28      20 21 22 23 24 25 26      17 18 19 20 21 22 23\n",
      "29 30                     27 28 29 30 31            24 25 26 27 28 29 30\n",
      "\n",
      "        July                     August                  September\n",
      "Mo Tu We Th Fr Sa Su      Mo Tu We Th Fr Sa Su      Mo Tu We Th Fr Sa Su\n",
      " 1  2  3  4  5  6  7                1  2  3  4                         1\n",
      " 8  9 10 11 12 13 14       5  6  7  8  9 10 11       2  3  4  5  6  7  8\n",
      "15 16 17 18 19 20 21      12 13 14 15 16 17 18       9 10 11 12 13 14 15\n",
      "22 23 24 25 26 27 28      19 20 21 22 23 24 25      16 17 18 19 20 21 22\n",
      "29 30 31                  26 27 28 29 30 31         23 24 25 26 27 28 29\n",
      "                                                    30\n",
      "\n",
      "      October                   November                  December\n",
      "Mo Tu We Th Fr Sa Su      Mo Tu We Th Fr Sa Su      Mo Tu We Th Fr Sa Su\n",
      "    1  2  3  4  5  6                   1  2  3                         1\n",
      " 7  8  9 10 11 12 13       4  5  6  7  8  9 10       2  3  4  5  6  7  8\n",
      "14 15 16 17 18 19 20      11 12 13 14 15 16 17       9 10 11 12 13 14 15\n",
      "21 22 23 24 25 26 27      18 19 20 21 22 23 24      16 17 18 19 20 21 22\n",
      "28 29 30 31               25 26 27 28 29 30         23 24 25 26 27 28 29\n",
      "                                                    30 31\n",
      "\n"
     ]
    }
   ],
   "source": [
    "import calendar\n",
    "\n",
    "# Print the calendar for the year 2024\n",
    "print(calendar.calendar(2024))\n"
   ]
  },
  {
   "cell_type": "code",
   "execution_count": 34,
   "id": "b0637990",
   "metadata": {},
   "outputs": [
    {
     "name": "stdout",
     "output_type": "stream",
     "text": [
      "July 23, 2024 is a Tuesday\n"
     ]
    }
   ],
   "source": [
    "import calendar\n",
    "\n",
    "# Find the day of the week for July 23, 2024\n",
    "weekday = calendar.weekday(2024, 7, 23)\n",
    "days = [\"Monday\", \"Tuesday\", \"Wednesday\", \"Thursday\", \"Friday\", \"Saturday\", \"Sunday\"]\n",
    "print(\"July 23, 2024 is a\", days[weekday])\n"
   ]
  },
  {
   "cell_type": "code",
   "execution_count": 35,
   "id": "b8fb4c58",
   "metadata": {},
   "outputs": [
    {
     "name": "stdout",
     "output_type": "stream",
     "text": [
      "[[1, 2, 3, 4, 5, 6, 7], [8, 9, 10, 11, 12, 13, 14], [15, 16, 17, 18, 19, 20, 21], [22, 23, 24, 25, 26, 27, 28], [29, 30, 31, 0, 0, 0, 0]]\n"
     ]
    }
   ],
   "source": [
    "import calendar\n",
    "\n",
    "# Get the month's calendar for July 2024 as a matrix\n",
    "month_matrix = calendar.monthcalendar(2024, 7)\n",
    "print(month_matrix)\n"
   ]
  },
  {
   "cell_type": "code",
   "execution_count": 36,
   "id": "224a1c24",
   "metadata": {},
   "outputs": [
    {
     "name": "stdout",
     "output_type": "stream",
     "text": [
      "Number of days in July 2024: 31\n"
     ]
    }
   ],
   "source": [
    "import calendar\n",
    "\n",
    "# Get the number of days in July 2024\n",
    "num_days = calendar.monthrange(2024, 7)[1]\n",
    "print(\"Number of days in July 2024:\", num_days)\n"
   ]
  },
  {
   "cell_type": "code",
   "execution_count": 37,
   "id": "3a793036",
   "metadata": {},
   "outputs": [
    {
     "name": "stdout",
     "output_type": "stream",
     "text": [
      "Is 2024 a leap year? True\n"
     ]
    }
   ],
   "source": [
    "import calendar\n",
    "\n",
    "# Check if 2024 is a leap year\n",
    "is_leap = calendar.isleap(2024)\n",
    "print(\"Is 2024 a leap year?\", is_leap)\n"
   ]
  },
  {
   "cell_type": "code",
   "execution_count": 39,
   "id": "6d70291a",
   "metadata": {},
   "outputs": [
    {
     "name": "stdout",
     "output_type": "stream",
     "text": [
      "Is 2024 a leap year? True\n"
     ]
    }
   ],
   "source": [
    "import calendar\n",
    "\n",
    "# Check if 2024 is a leap year\n",
    "is_leap = calendar.isleap(2024)\n",
    "print(\"Is 2024 a leap year?\", is_leap)\n"
   ]
  },
  {
   "cell_type": "code",
   "execution_count": 41,
   "id": "12653a28",
   "metadata": {},
   "outputs": [
    {
     "name": "stdout",
     "output_type": "stream",
     "text": [
      "Enter year: 2002\n",
      "Is 2002 a leap year? False\n"
     ]
    }
   ],
   "source": [
    "import calendar\n",
    "\n",
    "# Check if given year is a leap year\n",
    "year = int(input('Enter year: '))\n",
    "is_leap = calendar.isleap(year)\n",
    "print(f\"Is {year} a leap year?\", is_leap)\n"
   ]
  }
 ],
 "metadata": {
  "kernelspec": {
   "display_name": "Python 3 (ipykernel)",
   "language": "python",
   "name": "python3"
  },
  "language_info": {
   "codemirror_mode": {
    "name": "ipython",
    "version": 3
   },
   "file_extension": ".py",
   "mimetype": "text/x-python",
   "name": "python",
   "nbconvert_exporter": "python",
   "pygments_lexer": "ipython3",
   "version": "3.11.5"
  }
 },
 "nbformat": 4,
 "nbformat_minor": 5
}
